{
  "cells": [
    {
      "cell_type": "markdown",
      "metadata": {
        "id": "bdOtymKLg8MD"
      },
      "source": [
        "<!DOCTYPE html>\n",
        "<html>\n",
        "<body>\n",
        "\n",
        "<!-- Exploratory data analisys header -->\n",
        "\n",
        "<h2>Bayes Marketing Mix Modeling 🪲</h2>\n",
        "<ul>\n",
        "<li style=\"text-align: left;\"><sub><strong>Client</strong>: Test [Data]</sub></li>\n",
        "<li style=\"text-align: left;\"><sub><strong>Project id</strong>: 01CTEDA22</sub></li>\n",
        "</ul>\n",
        "\n",
        "</body>\n",
        "</html>"
      ]
    },
    {
      "cell_type": "code",
      "execution_count": null,
      "metadata": {
        "id": "177nSt9xX59r"
      },
      "outputs": [],
      "source": [
        "!pip install arviz==0.11.4 pymc3 optuna prophet scikit-misc"
      ]
    },
    {
      "cell_type": "code",
      "execution_count": null,
      "metadata": {
        "colab": {
          "base_uri": "https://localhost:8080/"
        },
        "id": "EcoGon6kBO1M",
        "outputId": "f86848aa-cfce-4728-8f89-498e80014a7b"
      },
      "outputs": [
        {
          "name": "stdout",
          "output_type": "stream",
          "text": [
            "Drive already mounted at /content/drive; to attempt to forcibly remount, call drive.mount(\"/content/drive\", force_remount=True).\n"
          ]
        }
      ],
      "source": [
        "from google.colab import drive\n",
        "drive.mount('/content/drive')"
      ]
    },
    {
      "cell_type": "code",
      "execution_count": null,
      "metadata": {
        "id": "2wN6_utWYNB7"
      },
      "outputs": [],
      "source": [
        "#Importing libraries pandas, numpy, plotly, and seaborn\n",
        "\n",
        "import pandas as pd\n",
        "import numpy as np\n",
        "import plotly.graph_objs as go\n",
        "import plotly.express as px\n",
        "import matplotlib.pyplot as plt\n",
        "from plotnine import *\n",
        "import seaborn as sns\n",
        "import re\n",
        "\n",
        "#Importing modeling libraries\n",
        "#Importing modeling libraries\n",
        "from scipy.stats.mstats import mquantiles\n",
        "import theano.tensor as tt\n",
        "import theano\n",
        "import pymc3 as pm\n",
        "from prophet import Prophet\n",
        "from scipy import optimize\n",
        "import python_utils as utils\n",
        "from sklearn.model_selection import train_test_split\n",
        "from sklearn.preprocessing import StandardScaler, MinMaxScaler\n",
        "from sklearn.base import BaseEstimator, TransformerMixin\n",
        "from sklearn.metrics import mean_absolute_error, mean_squared_error\n",
        "from sklearn.utils.validation import check_is_fitted, check_array\n",
        "from scipy.signal import convolve2d\n",
        "from sklearn.model_selection import cross_val_score, TimeSeriesSplit\n",
        "from sklearn.compose import ColumnTransformer\n",
        "from sklearn.pipeline import Pipeline\n",
        "from sklearn.linear_model import LinearRegression\n",
        "from optuna.integration import OptunaSearchCV\n",
        "from optuna.distributions import UniformDistribution, IntUniformDistribution\n",
        "import arviz as az"
      ]
    },
    {
      "cell_type": "code",
      "execution_count": null,
      "metadata": {
        "id": "oMSCJwnGi8Ja"
      },
      "outputs": [],
      "source": [
        "%load_ext autoreload\n",
        "%autoreload 2\n",
        "\n",
        "pd.set_option('display.float_format', lambda x: '%.5f' % x)\n",
        "np.set_printoptions(suppress=True)\n",
        "#suppress exponential notation, define an appropriate float formatter\n",
        "#specify stdout line width and let pretty print do the work\n",
        "np.set_printoptions(suppress=True, formatter={'float_kind':'{:16.3f}'.format}, linewidth=130)\n",
        "plt.rcParams['font.size'] = 18"
      ]
    },
    {
      "cell_type": "code",
      "execution_count": null,
      "metadata": {
        "id": "MexH6Qk8YRCZ"
      },
      "outputs": [],
      "source": [
        "pd.options.plotting.backend = \"plotly\""
      ]
    },
    {
      "cell_type": "code",
      "execution_count": null,
      "metadata": {
        "id": "TNBZynSJYSiP"
      },
      "outputs": [],
      "source": [
        "facebook = pd.read_csv('/content/drive/MyDrive/Bayesian MMM/facebook.csv')\n",
        "google = pd.read_csv('/content/drive/MyDrive/Bayesian MMM/google.csv')\n",
        "sales = pd.read_csv('/content/drive/MyDrive/Bayesian MMM/sales_last_three_years.csv')\n",
        "\n",
        "weather = pd.concat([pd.read_csv('/content/drive/MyDrive/Bayesian MMM/weather_18-20.csv'),pd.read_csv('/content/drive/MyDrive/Bayesian MMM/weather_20-22.csv')])\n",
        "\n",
        "economics_21 = pd.DataFrame({'GDP per capita (current US$)': {0: 19700},\n",
        " 'Inflation, consumer prices (annual %)': {0: 5.0},\n",
        " 'Labor force, total': {0: 935981},             \n",
        " 'Primary income payments (BoP, current US$)': {0: 1696860291.0},\n",
        " 'date': {0: '2021-12-31'}})\n",
        "economics_21['avg salary'] = economics_21['Primary income payments (BoP, current US$)']/economics_21['Labor force, total']\n",
        "\n",
        "economics = pd.concat([economics_21, pd.read_csv('/content/drive/MyDrive/Bayesian MMM/control_economics_data.csv')])\n",
        "economics = economics[['date','GDP per capita (current US$)','Inflation, consumer prices (annual %)','Labor force, total','Primary income payments (BoP, current US$)', 'avg salary']].reset_index(drop=True).loc[:3]\n",
        "economics['country'] = 'Estonia'"
      ]
    },
    {
      "cell_type": "code",
      "execution_count": null,
      "metadata": {
        "id": "3XJwI8hnED_H"
      },
      "outputs": [],
      "source": [
        "weather_frame = weather[['datetime', 'tempmax', 'tempmin', 'temp', 'solarenergy', 'humidity', 'precip']]\n",
        "weather_frame.columns = ['date', 'tempmax', 'tempmin', 'temp', 'solarenergy', 'humidity', 'precip']"
      ]
    },
    {
      "cell_type": "code",
      "execution_count": null,
      "metadata": {
        "id": "_X1lYKui_Q2f"
      },
      "outputs": [],
      "source": [
        "temp = economics.copy()\n",
        "temp.index = pd.to_datetime(temp.date)\n",
        "\n",
        "empty = pd.DataFrame()\n",
        "\n",
        "for paises in list(temp.country.value_counts().index):\n",
        "  val = temp[temp.country == paises]\n",
        "  del val['country']\n",
        "  del val['date']\n",
        "  temp_reindexed = val.resample('D').interpolate('slinear')\n",
        "  temp_reindexed['country'] = paises\n",
        "\n",
        "  temp_reindexed.rename(columns = {'GDP per capita (current US$)': 'gdp_per_capita_daily',\n",
        "                                   'Inflation, consumer prices (annual %)': 'inflation_percentual',\n",
        "                                   'Labor force, total': 'labor_force_total',\n",
        "                                   'Primary income payments (BoP, current US$)': 'primary_income_payments',\n",
        "                                   'avg salary': 'avg_salary'}, inplace = True)\n",
        "  \n",
        "  bix = (temp_reindexed.groupby(['country']).gdp_per_capita_daily.diff())\n",
        "  bix = temp_reindexed.assign(gdp_per_capita_daily_ac = bix)\n",
        "  delt = bix.copy()\n",
        "\n",
        "  bix = (delt.groupby(['country']).inflation_percentual.diff())\n",
        "  bix = delt.assign(inflation_percentual_ac = bix)\n",
        "  delt = bix.copy()\n",
        "\n",
        "  bix = (delt.groupby(['country']).labor_force_total.diff())\n",
        "  bix = delt.assign(labor_force_total_ac = bix)\n",
        "  delt = bix.copy()\n",
        "\n",
        "  bix = (delt.groupby(['country']).primary_income_payments.diff())\n",
        "  bix = delt.assign(primary_income_payments_ac = bix)\n",
        "  delt = bix.copy()\n",
        "\n",
        "  bix = (delt.groupby(['country']).avg_salary.diff())\n",
        "  bix = delt.assign(avg_salary_ac = bix)\n",
        "  delt = bix.copy()\n",
        "\n",
        "  empty = pd.concat([empty, bix])\n",
        "\n",
        "empty.tail()"
      ]
    },
    {
      "cell_type": "code",
      "execution_count": null,
      "metadata": {
        "id": "T1pe9NnjGlrm"
      },
      "outputs": [],
      "source": [
        "economics_modify = empty[['gdp_per_capita_daily',\t'inflation_percentual',\t'labor_force_total',\t'primary_income_payments',\t'avg_salary',\t'country']].reset_index()\n",
        "economics_modify['date'] = economics_modify['date'].astype(str)\n",
        "economics_modify"
      ]
    },
    {
      "cell_type": "code",
      "execution_count": null,
      "metadata": {
        "id": "DdeIfNkyY-Ni"
      },
      "outputs": [],
      "source": [
        "facebook.columns = ['date','facebook_impressions', 'facebook']\n",
        "google.columns = ['date','google', 'google_impressions']\n",
        "sales_fill = sales[['date', 'sales']].copy()"
      ]
    },
    {
      "cell_type": "code",
      "execution_count": null,
      "metadata": {
        "colab": {
          "base_uri": "https://localhost:8080/"
        },
        "id": "bsuvS55XYc6d",
        "outputId": "cc80eb10-abe6-4f0d-d4fe-f317cbe32c0d"
      },
      "outputs": [
        {
          "name": "stdout",
          "output_type": "stream",
          "text": [
            "the len of the dataframe is 1548\n",
            "the len of the dataframe is 1548\n"
          ]
        }
      ],
      "source": [
        "#First print the len of analytics,\n",
        "#Second, delete all the rows with missing values in all the columns of the dataframe\n",
        "#Third, replace the missing values of a column with 0\n",
        "#Fourth, show the first 5 rows of the dataframe\n",
        "#Five, print the len of the dataframe with a formatted string\n",
        "\n",
        "print('the len of the dataframe is {}'.format(len(sales_fill)))\n",
        "sales_fill.dropna(inplace=True, axis=1, how='all')\n",
        "sales_fill.fillna(0, inplace=True)\n",
        "print('the len of the dataframe is {}'.format(len(sales_fill)))"
      ]
    },
    {
      "cell_type": "code",
      "execution_count": null,
      "metadata": {
        "colab": {
          "base_uri": "https://localhost:8080/"
        },
        "id": "CmsAcwTEYuKX",
        "outputId": "36326bec-71f9-455c-c8d9-099db079d0ee"
      },
      "outputs": [
        {
          "name": "stdout",
          "output_type": "stream",
          "text": [
            "the len of the dataframe is 1551\n",
            "the len of the dataframe is 1551\n"
          ]
        }
      ],
      "source": [
        "#First print the len of analytics,\n",
        "#Second, delete all the rows with missing values in all the columns of the dataframe\n",
        "#Third, replace the missing values of a column with 0\n",
        "#Fourth, show the first 5 rows of the dataframe\n",
        "#Five, print the len of the dataframe with a formatted string\n",
        "\n",
        "print('the len of the dataframe is {}'.format(len(facebook)))\n",
        "facebook.dropna(inplace=True, axis=1, how='all')\n",
        "facebook.fillna(0, inplace=True)\n",
        "print('the len of the dataframe is {}'.format(len(facebook)))"
      ]
    },
    {
      "cell_type": "code",
      "execution_count": null,
      "metadata": {
        "colab": {
          "base_uri": "https://localhost:8080/"
        },
        "id": "SbxXZEjpYxiU",
        "outputId": "78603acf-c5f2-41e1-b188-c2b1a7f79ea5"
      },
      "outputs": [
        {
          "name": "stdout",
          "output_type": "stream",
          "text": [
            "the len of the dataframe is 1566\n",
            "the len of the dataframe is 1566\n"
          ]
        }
      ],
      "source": [
        "#First print the len of analytics,\n",
        "#Second, delete all the rows with missing values in all the columns of the dataframe\n",
        "#Third, replace the missing values of a column with 0\n",
        "#Fourth, show the first 5 rows of the dataframe\n",
        "#Five, print the len of the dataframe with a formatted string\n",
        "\n",
        "print('the len of the dataframe is {}'.format(len(google)))\n",
        "google.dropna(inplace=True, axis=1, how='all')\n",
        "google.fillna(0, inplace=True)\n",
        "print('the len of the dataframe is {}'.format(len(google)))"
      ]
    },
    {
      "cell_type": "code",
      "execution_count": null,
      "metadata": {
        "id": "3GW4xiOuY36b"
      },
      "outputs": [],
      "source": [
        "merge = pd.merge(sales_fill, facebook, on='date', how = 'left').merge(google, on='date', how = 'left').merge(economics_modify, on='date', how = 'left').merge(weather_frame, on='date', how = 'left')\n",
        "merge.head(5)"
      ]
    },
    {
      "cell_type": "code",
      "execution_count": null,
      "metadata": {
        "id": "cu9Tg7UTZoWl"
      },
      "outputs": [],
      "source": [
        "merge['date_week'] = pd.to_datetime(merge.date).dt.to_period('W').dt.start_time\n",
        "merge.head(5)"
      ]
    },
    {
      "cell_type": "code",
      "execution_count": null,
      "metadata": {
        "id": "k5nGUDyzZr5W"
      },
      "outputs": [],
      "source": [
        "group = merge.groupby('date_week').agg({'sales':'sum', 'facebook_impressions':'sum',\n",
        "                                        'facebook':'sum', 'google_impressions': 'sum', \n",
        "                                        'google': 'sum', 'gdp_per_capita_daily': 'mean',\n",
        "                                        'inflation_percentual':'mean', 'labor_force_total': 'mean',\n",
        "                                        'primary_income_payments': 'mean', 'avg_salary': 'mean', \n",
        "                                        'tempmax': 'mean', 'tempmin': 'mean', 'temp': 'mean',\n",
        "                                        'solarenergy': 'mean', 'humidity':'mean', 'precip': 'mean'})\n",
        "group.head(5)"
      ]
    },
    {
      "cell_type": "code",
      "execution_count": null,
      "metadata": {
        "id": "WXqwh_zYaAXt"
      },
      "outputs": [],
      "source": [
        "filtered = group[(group.sales > 0) & (group.facebook > 0) & (group.google > 0) & (group.index < '2022-01-01')]\n",
        "filtered"
      ]
    },
    {
      "cell_type": "code",
      "execution_count": null,
      "metadata": {
        "id": "SSMohTFjKxT8"
      },
      "outputs": [],
      "source": [
        "filtered.to_csv('data_filtered.csv')"
      ]
    },
    {
      "cell_type": "code",
      "execution_count": null,
      "metadata": {
        "id": "62Py-brHaG0L"
      },
      "outputs": [],
      "source": [
        "filtered.drop(columns=['sales']).plot()"
      ]
    },
    {
      "cell_type": "code",
      "execution_count": null,
      "metadata": {
        "id": "gRjeC3d_bshN"
      },
      "outputs": [],
      "source": [
        "fig = px.imshow(filtered.corr())\n",
        "fig.show()"
      ]
    },
    {
      "cell_type": "code",
      "execution_count": null,
      "metadata": {
        "id": "v9EQA0_UbzGZ"
      },
      "outputs": [],
      "source": [
        "lag_periods =  4\n",
        "\n",
        "def crosscorr(datax, datay, lag=0):\n",
        "    return datax.corr(datay.shift(lag))"
      ]
    },
    {
      "cell_type": "code",
      "execution_count": null,
      "metadata": {
        "colab": {
          "base_uri": "https://localhost:8080/"
        },
        "id": "7cmO3jYmb1ke",
        "outputId": "dc3a77e4-d790-46e1-bd0d-ce76562fd19d"
      },
      "outputs": [
        {
          "name": "stdout",
          "output_type": "stream",
          "text": [
            "The correlation between Transactions and Google, with a lag of 0 days is 0.480120487809493\n",
            "The correlation between Transactions and Google, with a lag of 1 days is 0.46313502927455324\n",
            "The correlation between Transactions and Google, with a lag of 2 days is 0.4611542536550129\n",
            "The correlation between Transactions and Google, with a lag of 3 days is 0.45875580001224936\n"
          ]
        }
      ],
      "source": [
        "for lags in range(lag_periods):\n",
        "  print('The correlation between Transactions and Google, with a lag of {} days is {}'.format(lags,crosscorr(filtered['sales'], filtered['google'], lag = lags)))"
      ]
    },
    {
      "cell_type": "code",
      "execution_count": null,
      "metadata": {
        "colab": {
          "base_uri": "https://localhost:8080/"
        },
        "id": "VoBUlJgEb1bY",
        "outputId": "b2cbd3ff-3789-4823-c7c8-161b22e0548f"
      },
      "outputs": [
        {
          "name": "stdout",
          "output_type": "stream",
          "text": [
            "The correlation between Transactions and Facebook, with a lag of 0 days is 0.6002278992450638\n",
            "The correlation between Transactions and Facebook, with a lag of 1 days is 0.6022209582605829\n",
            "The correlation between Transactions and Facebook, with a lag of 2 days is 0.6031105684534523\n",
            "The correlation between Transactions and Facebook, with a lag of 3 days is 0.5822595159995573\n"
          ]
        }
      ],
      "source": [
        "for lags in range(lag_periods):\n",
        "  print('The correlation between Transactions and Facebook, with a lag of {} days is {}'.format(lags,crosscorr(filtered['sales'], filtered['facebook'], lag = lags)))"
      ]
    },
    {
      "cell_type": "code",
      "execution_count": null,
      "metadata": {
        "id": "uaRbMCxzVvKr"
      },
      "outputs": [],
      "source": [
        "def adstock_geometric(x: float, alpha: float):\n",
        "  x_decayed = np.zeros_like(x)\n",
        "  x_decayed[0] = x[0]\n",
        "  for xi in range(1, len(x_decayed)):\n",
        "    x_decayed[xi] = x[xi] + alpha* x_decayed[xi - 1]\n",
        "  return x_decayed\n",
        "\n",
        "def adstock_geometric_theano_pymc3(x, theta):\n",
        "    x = tt.as_tensor_variable(x)\n",
        "    \n",
        "    def adstock_geometric_recurrence_theano(index, \n",
        "                                            input_x, \n",
        "                                            decay_x,   \n",
        "                                            theta):\n",
        "        return tt.set_subtensor(decay_x[index], \n",
        "               tt.sum(input_x + theta * decay_x[index - 1]))\n",
        "    len_observed = x.shape[0]\n",
        "    x_decayed = tt.zeros_like(x)\n",
        "    x_decayed = tt.set_subtensor(x_decayed[0], x[0])\n",
        "    output, _ = theano.scan(\n",
        "        fn = adstock_geometric_recurrence_theano, \n",
        "        sequences = [tt.arange(1, len_observed), x[1:len_observed]], \n",
        "        outputs_info = x_decayed,\n",
        "        non_sequences = theta, \n",
        "        n_steps = len_observed - 1\n",
        "    )\n",
        "    \n",
        "    return output[-1]\n",
        "\n",
        "def saturation_hill_pymc3(x, alpha, gamma): \n",
        "    x_s_hill = x ** alpha / (x ** alpha + gamma ** alpha)\n",
        "    return x_s_hill"
      ]
    },
    {
      "cell_type": "code",
      "execution_count": null,
      "metadata": {
        "colab": {
          "base_uri": "https://localhost:8080/"
        },
        "id": "Ti_Y1HGcVz_m",
        "outputId": "74793bda-2d06-4d8f-e339-9d3ca444df6c"
      },
      "outputs": [
        {
          "name": "stderr",
          "output_type": "stream",
          "text": [
            "INFO:prophet:Disabling daily seasonality. Run prophet with daily_seasonality=True to override this.\n"
          ]
        }
      ],
      "source": [
        "data_prophet = filtered.reset_index()\n",
        "prophet_data = data_prophet.rename(columns = {'sales': 'y', 'date_week': 'ds'})\n",
        "#add categorical into prophet\n",
        "#prophet_data = pd.concat([prophet_data, pd.get_dummies(prophet_data[\"events\"], drop_first = True, prefix = \"events\")], axis = 1)\n",
        "prophet = Prophet(yearly_seasonality=True,weekly_seasonality=True)\n",
        "prophet.add_regressor(name = \"facebook\")\n",
        "prophet.add_regressor(name = \"google\")\n",
        "prophet.fit(prophet_data[[\"ds\", \"y\", \"facebook\", \"google\"]])\n",
        "prophet_predict = prophet.predict(prophet_data[[\"ds\", \"y\", \"facebook\", \"google\"]])"
      ]
    },
    {
      "cell_type": "code",
      "execution_count": null,
      "metadata": {
        "id": "7Sc3ZhH4XPuJ"
      },
      "outputs": [],
      "source": [
        "prophet.plot_components(prophet_predict)"
      ]
    },
    {
      "cell_type": "code",
      "execution_count": null,
      "metadata": {
        "id": "3TmCv-sfX_Cy"
      },
      "outputs": [],
      "source": [
        "prophet.plot(prophet_predict)"
      ]
    },
    {
      "cell_type": "code",
      "execution_count": null,
      "metadata": {
        "id": "VQgu5dcxXoZC"
      },
      "outputs": [],
      "source": [
        "#prophet_columns = [col for col in prophet_predict.columns if (col.endswith(\"upper\") == False) & (col.endswith(\"lower\") == False)]\n",
        "#events_numeric = prophet_predict[prophet_columns].filter(like = \"events_\").sum(axis = 1)\n",
        "final_data = data_prophet.copy()\n",
        "final_data[\"trend\"] = prophet_predict[\"trend\"]\n",
        "final_data[\"season\"] = prophet_predict[\"yearly\"]"
      ]
    },
    {
      "cell_type": "code",
      "execution_count": null,
      "metadata": {
        "colab": {
          "base_uri": "https://localhost:8080/",
          "height": 112
        },
        "id": "GZvJFpcoYEgP",
        "outputId": "3c237306-6879-46a4-baf2-0c385057e2c2"
      },
      "outputs": [
        {
          "data": {
            "text/html": [
              "\n",
              "  <div id=\"df-bace2be3-d16a-49e5-a154-7c423404f08c\">\n",
              "    <div class=\"colab-df-container\">\n",
              "      <div>\n",
              "<style scoped>\n",
              "    .dataframe tbody tr th:only-of-type {\n",
              "        vertical-align: middle;\n",
              "    }\n",
              "\n",
              "    .dataframe tbody tr th {\n",
              "        vertical-align: top;\n",
              "    }\n",
              "\n",
              "    .dataframe thead th {\n",
              "        text-align: right;\n",
              "    }\n",
              "</style>\n",
              "<table border=\"1\" class=\"dataframe\">\n",
              "  <thead>\n",
              "    <tr style=\"text-align: right;\">\n",
              "      <th></th>\n",
              "      <th>spend</th>\n",
              "      <th>exposure</th>\n",
              "      <th>V_max</th>\n",
              "      <th>K_m</th>\n",
              "    </tr>\n",
              "  </thead>\n",
              "  <tbody>\n",
              "    <tr>\n",
              "      <th>0</th>\n",
              "      <td>facebook</td>\n",
              "      <td>facebook_impressions</td>\n",
              "      <td>4039031.76141</td>\n",
              "      <td>6409.37736</td>\n",
              "    </tr>\n",
              "    <tr>\n",
              "      <th>1</th>\n",
              "      <td>google</td>\n",
              "      <td>google_impressions</td>\n",
              "      <td>9318446.05188</td>\n",
              "      <td>20843.12876</td>\n",
              "    </tr>\n",
              "  </tbody>\n",
              "</table>\n",
              "</div>\n",
              "      <button class=\"colab-df-convert\" onclick=\"convertToInteractive('df-bace2be3-d16a-49e5-a154-7c423404f08c')\"\n",
              "              title=\"Convert this dataframe to an interactive table.\"\n",
              "              style=\"display:none;\">\n",
              "        \n",
              "  <svg xmlns=\"http://www.w3.org/2000/svg\" height=\"24px\"viewBox=\"0 0 24 24\"\n",
              "       width=\"24px\">\n",
              "    <path d=\"M0 0h24v24H0V0z\" fill=\"none\"/>\n",
              "    <path d=\"M18.56 5.44l.94 2.06.94-2.06 2.06-.94-2.06-.94-.94-2.06-.94 2.06-2.06.94zm-11 1L8.5 8.5l.94-2.06 2.06-.94-2.06-.94L8.5 2.5l-.94 2.06-2.06.94zm10 10l.94 2.06.94-2.06 2.06-.94-2.06-.94-.94-2.06-.94 2.06-2.06.94z\"/><path d=\"M17.41 7.96l-1.37-1.37c-.4-.4-.92-.59-1.43-.59-.52 0-1.04.2-1.43.59L10.3 9.45l-7.72 7.72c-.78.78-.78 2.05 0 2.83L4 21.41c.39.39.9.59 1.41.59.51 0 1.02-.2 1.41-.59l7.78-7.78 2.81-2.81c.8-.78.8-2.07 0-2.86zM5.41 20L4 18.59l7.72-7.72 1.47 1.35L5.41 20z\"/>\n",
              "  </svg>\n",
              "      </button>\n",
              "      \n",
              "  <style>\n",
              "    .colab-df-container {\n",
              "      display:flex;\n",
              "      flex-wrap:wrap;\n",
              "      gap: 12px;\n",
              "    }\n",
              "\n",
              "    .colab-df-convert {\n",
              "      background-color: #E8F0FE;\n",
              "      border: none;\n",
              "      border-radius: 50%;\n",
              "      cursor: pointer;\n",
              "      display: none;\n",
              "      fill: #1967D2;\n",
              "      height: 32px;\n",
              "      padding: 0 0 0 0;\n",
              "      width: 32px;\n",
              "    }\n",
              "\n",
              "    .colab-df-convert:hover {\n",
              "      background-color: #E2EBFA;\n",
              "      box-shadow: 0px 1px 2px rgba(60, 64, 67, 0.3), 0px 1px 3px 1px rgba(60, 64, 67, 0.15);\n",
              "      fill: #174EA6;\n",
              "    }\n",
              "\n",
              "    [theme=dark] .colab-df-convert {\n",
              "      background-color: #3B4455;\n",
              "      fill: #D2E3FC;\n",
              "    }\n",
              "\n",
              "    [theme=dark] .colab-df-convert:hover {\n",
              "      background-color: #434B5C;\n",
              "      box-shadow: 0px 1px 3px 1px rgba(0, 0, 0, 0.15);\n",
              "      filter: drop-shadow(0px 1px 2px rgba(0, 0, 0, 0.3));\n",
              "      fill: #FFFFFF;\n",
              "    }\n",
              "  </style>\n",
              "\n",
              "      <script>\n",
              "        const buttonEl =\n",
              "          document.querySelector('#df-bace2be3-d16a-49e5-a154-7c423404f08c button.colab-df-convert');\n",
              "        buttonEl.style.display =\n",
              "          google.colab.kernel.accessAllowed ? 'block' : 'none';\n",
              "\n",
              "        async function convertToInteractive(key) {\n",
              "          const element = document.querySelector('#df-bace2be3-d16a-49e5-a154-7c423404f08c');\n",
              "          const dataTable =\n",
              "            await google.colab.kernel.invokeFunction('convertToInteractive',\n",
              "                                                     [key], {});\n",
              "          if (!dataTable) return;\n",
              "\n",
              "          const docLinkHtml = 'Like what you see? Visit the ' +\n",
              "            '<a target=\"_blank\" href=https://colab.research.google.com/notebooks/data_table.ipynb>data table notebook</a>'\n",
              "            + ' to learn more about interactive tables.';\n",
              "          element.innerHTML = '';\n",
              "          dataTable['output_type'] = 'display_data';\n",
              "          await google.colab.output.renderOutput(dataTable, element);\n",
              "          const docLink = document.createElement('div');\n",
              "          docLink.innerHTML = docLinkHtml;\n",
              "          element.appendChild(docLink);\n",
              "        }\n",
              "      </script>\n",
              "    </div>\n",
              "  </div>\n",
              "  "
            ],
            "text/plain": [
              "      spend              exposure         V_max         K_m\n",
              "0  facebook  facebook_impressions 4039031.76141  6409.37736\n",
              "1    google    google_impressions 9318446.05188 20843.12876"
            ]
          },
          "execution_count": 29,
          "metadata": {},
          "output_type": "execute_result"
        }
      ],
      "source": [
        "#define the function\n",
        "START_ANALYSIS_INDEX = 0\n",
        "END_ANALYSIS_INDEX = 150\n",
        "\n",
        "spend_to_exposure_menten_func = lambda spend, V_max, K_m: V_max * spend / (K_m + spend)\n",
        "media_exposures = [\"facebook_impressions\", \"google_impressions\"]\n",
        "media_spends = [\"facebook\", \"google\"]\n",
        "media_spend_exposure_df = pd.DataFrame()\n",
        "for (media_exposure, media_spend) in zip(media_exposures, media_spends):\n",
        "    V_max = final_data[media_exposure].values[START_ANALYSIS_INDEX : END_ANALYSIS_INDEX].max()\n",
        "    K_m   = V_max / 2\n",
        "    spend = final_data[media_spend].values[START_ANALYSIS_INDEX : END_ANALYSIS_INDEX]\n",
        "    exposure = final_data[media_exposure].values[START_ANALYSIS_INDEX : END_ANALYSIS_INDEX]\n",
        "    best_values, _ = optimize.curve_fit(f = spend_to_exposure_menten_func, xdata = spend, ydata = exposure, p0 = [V_max, K_m])\n",
        "    media_spend_exposure_df = pd.concat([media_spend_exposure_df, pd.DataFrame({'spend': [media_spend], 'exposure': [media_exposure], 'V_max': [best_values[0]], 'K_m': [best_values[1]]})]).reset_index(drop = True)\n",
        "    \n",
        "media_spend_exposure_df"
      ]
    },
    {
      "cell_type": "code",
      "execution_count": null,
      "metadata": {
        "id": "5JGgKQMfYnwL"
      },
      "outputs": [],
      "source": [
        "data = final_data.copy()\n",
        "transform_variables = ['facebook_impressions', 'facebook',\n",
        "       'google_impressions', 'google', 'gdp_per_capita_daily',\n",
        "       'inflation_percentual', 'labor_force_total', 'primary_income_payments',\n",
        "       'avg_salary', 'tempmax', 'tempmin', 'temp', 'solarenergy', 'humidity',\n",
        "       'precip', 'trend', 'season']\n",
        "delay_channels = [\"google_impressions\", \"facebook_impressions\"]\n",
        "media_channels = [\"google_impressions\", \"facebook_impressions\"]\n",
        "control_variables = ['gdp_per_capita_daily',\n",
        "       'inflation_percentual', 'labor_force_total', 'primary_income_payments',\n",
        "       'avg_salary', 'tempmax', 'tempmin', 'temp', 'solarenergy', 'humidity',\n",
        "       'precip', 'trend', 'season']\n",
        "target = \"sales\""
      ]
    },
    {
      "cell_type": "code",
      "execution_count": null,
      "metadata": {
        "id": "Gg1KqX5BY_uA"
      },
      "outputs": [],
      "source": [
        "data_transformed = data.copy()\n",
        "numerical_encoder_dict = {}\n",
        "\n",
        "for feature in transform_variables:\n",
        "    scaler = MinMaxScaler()\n",
        "    original = data[feature].values.reshape(-1, 1)\n",
        "    transformed = scaler.fit_transform(original)\n",
        "    data_transformed[feature] = transformed\n",
        "    numerical_encoder_dict[feature] = scalerdependent_transformation = None\n",
        "original = data[target].values\n",
        "data_transformed[target] = original / 100_000"
      ]
    },
    {
      "cell_type": "code",
      "execution_count": null,
      "metadata": {
        "id": "MbTrL-AQl3WC"
      },
      "outputs": [],
      "source": [
        "dependent_transformation = MinMaxScaler()\n",
        "original = data[target].values.reshape(-1, 1)\n",
        "transformed = dependent_transformation.fit_transform(original)\n",
        "data_transformed[target] = transformed"
      ]
    },
    {
      "cell_type": "code",
      "execution_count": null,
      "metadata": {
        "colab": {
          "base_uri": "https://localhost:8080/"
        },
        "id": "byKfJ9WmZH9b",
        "outputId": "2474bafe-c031-4577-f29d-dede201ccdd2"
      },
      "outputs": [
        {
          "name": "stdout",
          "output_type": "stream",
          "text": [
            "Delay Channels: Adding google_impressions\n"
          ]
        },
        {
          "name": "stderr",
          "output_type": "stream",
          "text": [
            "INFO:/usr/local/lib/python3.7/dist-packages/theano/link/c/lazylinker_c.py:Compiling new CVM\n",
            "INFO:/usr/local/lib/python3.7/dist-packages/theano/link/c/lazylinker_c.py:New version 0.211\n"
          ]
        },
        {
          "name": "stdout",
          "output_type": "stream",
          "text": [
            "Delay Channels: Adding facebook_impressions\n",
            "Control Variables: Adding gdp_per_capita_daily\n",
            "Control Variables: Adding inflation_percentual\n",
            "Control Variables: Adding labor_force_total\n",
            "Control Variables: Adding primary_income_payments\n",
            "Control Variables: Adding avg_salary\n",
            "Control Variables: Adding tempmax\n",
            "Control Variables: Adding tempmin\n",
            "Control Variables: Adding temp\n",
            "Control Variables: Adding solarenergy\n",
            "Control Variables: Adding humidity\n",
            "Control Variables: Adding precip\n",
            "Control Variables: Adding trend\n",
            "Control Variables: Adding season\n"
          ]
        }
      ],
      "source": [
        "response_mean = []\n",
        "with pm.Model() as model_2:\n",
        "    for channel_name in delay_channels:\n",
        "        print(f\"Delay Channels: Adding {channel_name}\")\n",
        "        \n",
        "        x = data_transformed[channel_name].values\n",
        "        \n",
        "        adstock_param = pm.Beta(f\"{channel_name}_adstock\", 3, 3)\n",
        "        saturation_gamma = pm.Beta(f\"{channel_name}_gamma\", 2, 2)\n",
        "        saturation_alpha = pm.Gamma(f\"{channel_name}_alpha\", 3, 1)\n",
        "        \n",
        "        x_new = adstock_geometric_theano_pymc3(x, adstock_param)\n",
        "        x_new_sliced = x_new[START_ANALYSIS_INDEX:END_ANALYSIS_INDEX]\n",
        "        saturation_tensor = saturation_hill_pymc3(x_new_sliced, saturation_alpha, saturation_gamma)\n",
        "        \n",
        "        channel_b = pm.HalfNormal(f\"{channel_name}_media_coef\", sd = 3)\n",
        "        response_mean.append(saturation_tensor * channel_b)\n",
        "        \n",
        "    for control_var in control_variables:\n",
        "        print(f\"Control Variables: Adding {control_var}\")\n",
        "        \n",
        "        x = data_transformed[control_var].values[START_ANALYSIS_INDEX:END_ANALYSIS_INDEX]\n",
        "        \n",
        "        control_beta = pm.Normal(f\"{control_var}_control_coef\", sd = 3)\n",
        "        control_x = control_beta * x\n",
        "        response_mean.append(control_x)\n",
        "        \n",
        "    intercept = pm.Normal(\"intercept\", np.mean(data_transformed[target].values), sd = 3)\n",
        "    #intercept = pm.HalfNormal(\"intercept\", 0, sd = 3)\n",
        "        \n",
        "    sigma = pm.HalfNormal(\"sigma\", 4)\n",
        "    \n",
        "    likelihood = pm.Normal(\"outcome\", mu = intercept + sum(response_mean), sd = sigma, observed = data_transformed[target].values[START_ANALYSIS_INDEX:END_ANALYSIS_INDEX])"
      ]
    },
    {
      "cell_type": "code",
      "execution_count": null,
      "metadata": {
        "colab": {
          "base_uri": "https://localhost:8080/",
          "height": 1000
        },
        "id": "SFpy0jBHZft8",
        "outputId": "f07eb915-07ac-4130-c9a8-20a4995561bf"
      },
      "outputs": [
        {
          "name": "stderr",
          "output_type": "stream",
          "text": [
            "Auto-assigning NUTS sampler...\n",
            "INFO:pymc3:Auto-assigning NUTS sampler...\n",
            "Initializing NUTS using jitter+adapt_diag...\n",
            "INFO:pymc3:Initializing NUTS using jitter+adapt_diag...\n",
            "Sequential sampling (2 chains in 1 job)\n",
            "INFO:pymc3:Sequential sampling (2 chains in 1 job)\n",
            "NUTS: [sigma, intercept, season_control_coef, trend_control_coef, precip_control_coef, humidity_control_coef, solarenergy_control_coef, temp_control_coef, tempmin_control_coef, tempmax_control_coef, avg_salary_control_coef, primary_income_payments_control_coef, labor_force_total_control_coef, inflation_percentual_control_coef, gdp_per_capita_daily_control_coef, facebook_impressions_media_coef, facebook_impressions_alpha, facebook_impressions_gamma, facebook_impressions_adstock, google_impressions_media_coef, google_impressions_alpha, google_impressions_gamma, google_impressions_adstock]\n",
            "INFO:pymc3:NUTS: [sigma, intercept, season_control_coef, trend_control_coef, precip_control_coef, humidity_control_coef, solarenergy_control_coef, temp_control_coef, tempmin_control_coef, tempmax_control_coef, avg_salary_control_coef, primary_income_payments_control_coef, labor_force_total_control_coef, inflation_percentual_control_coef, gdp_per_capita_daily_control_coef, facebook_impressions_media_coef, facebook_impressions_alpha, facebook_impressions_gamma, facebook_impressions_adstock, google_impressions_media_coef, google_impressions_alpha, google_impressions_gamma, google_impressions_adstock]\n"
          ]
        },
        {
          "data": {
            "text/html": [
              "\n",
              "<style>\n",
              "    /* Turns off some styling */\n",
              "    progress {\n",
              "        /* gets rid of default border in Firefox and Opera. */\n",
              "        border: none;\n",
              "        /* Needs to be in here for Safari polyfill so background images work as expected. */\n",
              "        background-size: auto;\n",
              "    }\n",
              "    .progress-bar-interrupted, .progress-bar-interrupted::-webkit-progress-bar {\n",
              "        background: #F44336;\n",
              "    }\n",
              "</style>\n"
            ],
            "text/plain": [
              "<IPython.core.display.HTML object>"
            ]
          },
          "metadata": {},
          "output_type": "display_data"
        },
        {
          "data": {
            "text/html": [
              "\n",
              "    <div>\n",
              "      <progress value='525' class='' max='2000' style='width:300px; height:20px; vertical-align: middle;'></progress>\n",
              "      26.25% [525/2000 34:55<1:38:07 Sampling chain 0, 0 divergences]\n",
              "    </div>\n",
              "    "
            ],
            "text/plain": [
              "<IPython.core.display.HTML object>"
            ]
          },
          "metadata": {},
          "output_type": "display_data"
        },
        {
          "data": {
            "text/html": [
              "\n",
              "    <div>\n",
              "      <progress value='2000' class='' max='2000' style='width:300px; height:20px; vertical-align: middle;'></progress>\n",
              "      100.00% [2000/2000 2:49:27<00:00 Sampling chain 0, 0 divergences]\n",
              "    </div>\n",
              "    "
            ],
            "text/plain": [
              "<IPython.core.display.HTML object>"
            ]
          },
          "metadata": {},
          "output_type": "display_data"
        },
        {
          "data": {
            "text/html": [
              "\n",
              "<style>\n",
              "    /* Turns off some styling */\n",
              "    progress {\n",
              "        /* gets rid of default border in Firefox and Opera. */\n",
              "        border: none;\n",
              "        /* Needs to be in here for Safari polyfill so background images work as expected. */\n",
              "        background-size: auto;\n",
              "    }\n",
              "    .progress-bar-interrupted, .progress-bar-interrupted::-webkit-progress-bar {\n",
              "        background: #F44336;\n",
              "    }\n",
              "</style>\n"
            ],
            "text/plain": [
              "<IPython.core.display.HTML object>"
            ]
          },
          "metadata": {},
          "output_type": "display_data"
        },
        {
          "data": {
            "text/html": [
              "\n",
              "    <div>\n",
              "      <progress value='2000' class='' max='2000' style='width:300px; height:20px; vertical-align: middle;'></progress>\n",
              "      100.00% [2000/2000 2:46:11<00:00 Sampling chain 1, 0 divergences]\n",
              "    </div>\n",
              "    "
            ],
            "text/plain": [
              "<IPython.core.display.HTML object>"
            ]
          },
          "metadata": {},
          "output_type": "display_data"
        },
        {
          "name": "stderr",
          "output_type": "stream",
          "text": [
            "Sampling 2 chains for 1_000 tune and 1_000 draw iterations (2_000 + 2_000 draws total) took 20139 seconds.\n",
            "INFO:pymc3:Sampling 2 chains for 1_000 tune and 1_000 draw iterations (2_000 + 2_000 draws total) took 20139 seconds.\n",
            "The chain reached the maximum tree depth. Increase max_treedepth, increase target_accept or reparameterize.\n",
            "WARNING:pymc3:The chain reached the maximum tree depth. Increase max_treedepth, increase target_accept or reparameterize.\n",
            "The chain reached the maximum tree depth. Increase max_treedepth, increase target_accept or reparameterize.\n",
            "WARNING:pymc3:The chain reached the maximum tree depth. Increase max_treedepth, increase target_accept or reparameterize.\n",
            "The estimated number of effective samples is smaller than 200 for some parameters.\n",
            "ERROR:pymc3:The estimated number of effective samples is smaller than 200 for some parameters.\n"
          ]
        },
        {
          "data": {
            "text/html": [
              "\n",
              "  <div id=\"df-90325e94-31c1-4517-9657-d3a0dfd3f5a2\">\n",
              "    <div class=\"colab-df-container\">\n",
              "      <div>\n",
              "<style scoped>\n",
              "    .dataframe tbody tr th:only-of-type {\n",
              "        vertical-align: middle;\n",
              "    }\n",
              "\n",
              "    .dataframe tbody tr th {\n",
              "        vertical-align: top;\n",
              "    }\n",
              "\n",
              "    .dataframe thead th {\n",
              "        text-align: right;\n",
              "    }\n",
              "</style>\n",
              "<table border=\"1\" class=\"dataframe\">\n",
              "  <thead>\n",
              "    <tr style=\"text-align: right;\">\n",
              "      <th></th>\n",
              "      <th>mean</th>\n",
              "      <th>sd</th>\n",
              "      <th>hdi_3%</th>\n",
              "      <th>hdi_97%</th>\n",
              "      <th>mcse_mean</th>\n",
              "      <th>mcse_sd</th>\n",
              "      <th>ess_bulk</th>\n",
              "      <th>ess_tail</th>\n",
              "      <th>r_hat</th>\n",
              "    </tr>\n",
              "  </thead>\n",
              "  <tbody>\n",
              "    <tr>\n",
              "      <th>gdp_per_capita_daily_control_coef</th>\n",
              "      <td>-0.42200</td>\n",
              "      <td>2.31000</td>\n",
              "      <td>-4.81500</td>\n",
              "      <td>3.68400</td>\n",
              "      <td>0.11700</td>\n",
              "      <td>0.08300</td>\n",
              "      <td>389.00000</td>\n",
              "      <td>715.00000</td>\n",
              "      <td>1.00000</td>\n",
              "    </tr>\n",
              "    <tr>\n",
              "      <th>inflation_percentual_control_coef</th>\n",
              "      <td>-0.47000</td>\n",
              "      <td>1.82700</td>\n",
              "      <td>-4.09700</td>\n",
              "      <td>2.68400</td>\n",
              "      <td>0.08200</td>\n",
              "      <td>0.05800</td>\n",
              "      <td>496.00000</td>\n",
              "      <td>761.00000</td>\n",
              "      <td>1.01000</td>\n",
              "    </tr>\n",
              "    <tr>\n",
              "      <th>labor_force_total_control_coef</th>\n",
              "      <td>-0.68200</td>\n",
              "      <td>2.34300</td>\n",
              "      <td>-4.86500</td>\n",
              "      <td>4.09700</td>\n",
              "      <td>0.09800</td>\n",
              "      <td>0.06900</td>\n",
              "      <td>572.00000</td>\n",
              "      <td>750.00000</td>\n",
              "      <td>1.01000</td>\n",
              "    </tr>\n",
              "    <tr>\n",
              "      <th>primary_income_payments_control_coef</th>\n",
              "      <td>0.67000</td>\n",
              "      <td>1.98300</td>\n",
              "      <td>-3.16200</td>\n",
              "      <td>4.27500</td>\n",
              "      <td>0.08500</td>\n",
              "      <td>0.06000</td>\n",
              "      <td>543.00000</td>\n",
              "      <td>806.00000</td>\n",
              "      <td>1.01000</td>\n",
              "    </tr>\n",
              "    <tr>\n",
              "      <th>avg_salary_control_coef</th>\n",
              "      <td>0.20700</td>\n",
              "      <td>2.54500</td>\n",
              "      <td>-4.70200</td>\n",
              "      <td>5.05300</td>\n",
              "      <td>0.09900</td>\n",
              "      <td>0.07000</td>\n",
              "      <td>664.00000</td>\n",
              "      <td>896.00000</td>\n",
              "      <td>1.00000</td>\n",
              "    </tr>\n",
              "    <tr>\n",
              "      <th>tempmax_control_coef</th>\n",
              "      <td>0.50700</td>\n",
              "      <td>0.52900</td>\n",
              "      <td>-0.45800</td>\n",
              "      <td>1.55400</td>\n",
              "      <td>0.02700</td>\n",
              "      <td>0.01900</td>\n",
              "      <td>375.00000</td>\n",
              "      <td>660.00000</td>\n",
              "      <td>1.01000</td>\n",
              "    </tr>\n",
              "    <tr>\n",
              "      <th>tempmin_control_coef</th>\n",
              "      <td>-0.14200</td>\n",
              "      <td>0.47000</td>\n",
              "      <td>-1.07300</td>\n",
              "      <td>0.70400</td>\n",
              "      <td>0.02500</td>\n",
              "      <td>0.01700</td>\n",
              "      <td>368.00000</td>\n",
              "      <td>633.00000</td>\n",
              "      <td>1.01000</td>\n",
              "    </tr>\n",
              "    <tr>\n",
              "      <th>temp_control_coef</th>\n",
              "      <td>-0.31600</td>\n",
              "      <td>0.94900</td>\n",
              "      <td>-2.08500</td>\n",
              "      <td>1.55600</td>\n",
              "      <td>0.05300</td>\n",
              "      <td>0.03800</td>\n",
              "      <td>318.00000</td>\n",
              "      <td>581.00000</td>\n",
              "      <td>1.01000</td>\n",
              "    </tr>\n",
              "    <tr>\n",
              "      <th>solarenergy_control_coef</th>\n",
              "      <td>0.07000</td>\n",
              "      <td>0.08500</td>\n",
              "      <td>-0.08700</td>\n",
              "      <td>0.22200</td>\n",
              "      <td>0.00400</td>\n",
              "      <td>0.00300</td>\n",
              "      <td>381.00000</td>\n",
              "      <td>870.00000</td>\n",
              "      <td>1.01000</td>\n",
              "    </tr>\n",
              "    <tr>\n",
              "      <th>humidity_control_coef</th>\n",
              "      <td>0.07200</td>\n",
              "      <td>0.07500</td>\n",
              "      <td>-0.08300</td>\n",
              "      <td>0.20000</td>\n",
              "      <td>0.00300</td>\n",
              "      <td>0.00200</td>\n",
              "      <td>581.00000</td>\n",
              "      <td>1142.00000</td>\n",
              "      <td>1.01000</td>\n",
              "    </tr>\n",
              "    <tr>\n",
              "      <th>precip_control_coef</th>\n",
              "      <td>0.03600</td>\n",
              "      <td>0.05200</td>\n",
              "      <td>-0.06200</td>\n",
              "      <td>0.13200</td>\n",
              "      <td>0.00200</td>\n",
              "      <td>0.00100</td>\n",
              "      <td>837.00000</td>\n",
              "      <td>1327.00000</td>\n",
              "      <td>1.00000</td>\n",
              "    </tr>\n",
              "    <tr>\n",
              "      <th>trend_control_coef</th>\n",
              "      <td>1.49200</td>\n",
              "      <td>0.22800</td>\n",
              "      <td>1.09900</td>\n",
              "      <td>1.94000</td>\n",
              "      <td>0.01500</td>\n",
              "      <td>0.01200</td>\n",
              "      <td>277.00000</td>\n",
              "      <td>236.00000</td>\n",
              "      <td>1.00000</td>\n",
              "    </tr>\n",
              "    <tr>\n",
              "      <th>season_control_coef</th>\n",
              "      <td>0.33400</td>\n",
              "      <td>0.04900</td>\n",
              "      <td>0.24300</td>\n",
              "      <td>0.42600</td>\n",
              "      <td>0.00300</td>\n",
              "      <td>0.00200</td>\n",
              "      <td>381.00000</td>\n",
              "      <td>907.00000</td>\n",
              "      <td>1.01000</td>\n",
              "    </tr>\n",
              "    <tr>\n",
              "      <th>intercept</th>\n",
              "      <td>-0.35600</td>\n",
              "      <td>1.62900</td>\n",
              "      <td>-3.34100</td>\n",
              "      <td>2.63900</td>\n",
              "      <td>0.08500</td>\n",
              "      <td>0.06000</td>\n",
              "      <td>346.00000</td>\n",
              "      <td>605.00000</td>\n",
              "      <td>1.00000</td>\n",
              "    </tr>\n",
              "    <tr>\n",
              "      <th>google_impressions_adstock</th>\n",
              "      <td>0.91100</td>\n",
              "      <td>0.04400</td>\n",
              "      <td>0.83700</td>\n",
              "      <td>0.98900</td>\n",
              "      <td>0.00400</td>\n",
              "      <td>0.00300</td>\n",
              "      <td>119.00000</td>\n",
              "      <td>183.00000</td>\n",
              "      <td>1.01000</td>\n",
              "    </tr>\n",
              "    <tr>\n",
              "      <th>google_impressions_gamma</th>\n",
              "      <td>0.16100</td>\n",
              "      <td>0.17800</td>\n",
              "      <td>0.00600</td>\n",
              "      <td>0.50300</td>\n",
              "      <td>0.01700</td>\n",
              "      <td>0.01200</td>\n",
              "      <td>115.00000</td>\n",
              "      <td>190.00000</td>\n",
              "      <td>1.01000</td>\n",
              "    </tr>\n",
              "    <tr>\n",
              "      <th>google_impressions_alpha</th>\n",
              "      <td>3.84100</td>\n",
              "      <td>2.30400</td>\n",
              "      <td>0.88100</td>\n",
              "      <td>8.19400</td>\n",
              "      <td>0.13700</td>\n",
              "      <td>0.09700</td>\n",
              "      <td>240.00000</td>\n",
              "      <td>327.00000</td>\n",
              "      <td>1.00000</td>\n",
              "    </tr>\n",
              "    <tr>\n",
              "      <th>google_impressions_media_coef</th>\n",
              "      <td>0.29900</td>\n",
              "      <td>0.14500</td>\n",
              "      <td>0.14400</td>\n",
              "      <td>0.51200</td>\n",
              "      <td>0.01200</td>\n",
              "      <td>0.00900</td>\n",
              "      <td>187.00000</td>\n",
              "      <td>188.00000</td>\n",
              "      <td>1.00000</td>\n",
              "    </tr>\n",
              "    <tr>\n",
              "      <th>facebook_impressions_adstock</th>\n",
              "      <td>0.48400</td>\n",
              "      <td>0.17900</td>\n",
              "      <td>0.15300</td>\n",
              "      <td>0.80000</td>\n",
              "      <td>0.00800</td>\n",
              "      <td>0.00600</td>\n",
              "      <td>481.00000</td>\n",
              "      <td>1144.00000</td>\n",
              "      <td>1.00000</td>\n",
              "    </tr>\n",
              "    <tr>\n",
              "      <th>facebook_impressions_gamma</th>\n",
              "      <td>0.26900</td>\n",
              "      <td>0.17700</td>\n",
              "      <td>0.02300</td>\n",
              "      <td>0.65400</td>\n",
              "      <td>0.00900</td>\n",
              "      <td>0.00700</td>\n",
              "      <td>421.00000</td>\n",
              "      <td>528.00000</td>\n",
              "      <td>1.01000</td>\n",
              "    </tr>\n",
              "    <tr>\n",
              "      <th>facebook_impressions_alpha</th>\n",
              "      <td>2.83000</td>\n",
              "      <td>1.83200</td>\n",
              "      <td>0.09500</td>\n",
              "      <td>6.00200</td>\n",
              "      <td>0.09200</td>\n",
              "      <td>0.06500</td>\n",
              "      <td>321.00000</td>\n",
              "      <td>370.00000</td>\n",
              "      <td>1.01000</td>\n",
              "    </tr>\n",
              "    <tr>\n",
              "      <th>facebook_impressions_media_coef</th>\n",
              "      <td>0.23600</td>\n",
              "      <td>0.19000</td>\n",
              "      <td>0.02400</td>\n",
              "      <td>0.42300</td>\n",
              "      <td>0.01100</td>\n",
              "      <td>0.00800</td>\n",
              "      <td>251.00000</td>\n",
              "      <td>432.00000</td>\n",
              "      <td>1.01000</td>\n",
              "    </tr>\n",
              "    <tr>\n",
              "      <th>sigma</th>\n",
              "      <td>0.08800</td>\n",
              "      <td>0.00600</td>\n",
              "      <td>0.07600</td>\n",
              "      <td>0.09700</td>\n",
              "      <td>0.00000</td>\n",
              "      <td>0.00000</td>\n",
              "      <td>644.00000</td>\n",
              "      <td>1089.00000</td>\n",
              "      <td>1.00000</td>\n",
              "    </tr>\n",
              "  </tbody>\n",
              "</table>\n",
              "</div>\n",
              "      <button class=\"colab-df-convert\" onclick=\"convertToInteractive('df-90325e94-31c1-4517-9657-d3a0dfd3f5a2')\"\n",
              "              title=\"Convert this dataframe to an interactive table.\"\n",
              "              style=\"display:none;\">\n",
              "        \n",
              "  <svg xmlns=\"http://www.w3.org/2000/svg\" height=\"24px\"viewBox=\"0 0 24 24\"\n",
              "       width=\"24px\">\n",
              "    <path d=\"M0 0h24v24H0V0z\" fill=\"none\"/>\n",
              "    <path d=\"M18.56 5.44l.94 2.06.94-2.06 2.06-.94-2.06-.94-.94-2.06-.94 2.06-2.06.94zm-11 1L8.5 8.5l.94-2.06 2.06-.94-2.06-.94L8.5 2.5l-.94 2.06-2.06.94zm10 10l.94 2.06.94-2.06 2.06-.94-2.06-.94-.94-2.06-.94 2.06-2.06.94z\"/><path d=\"M17.41 7.96l-1.37-1.37c-.4-.4-.92-.59-1.43-.59-.52 0-1.04.2-1.43.59L10.3 9.45l-7.72 7.72c-.78.78-.78 2.05 0 2.83L4 21.41c.39.39.9.59 1.41.59.51 0 1.02-.2 1.41-.59l7.78-7.78 2.81-2.81c.8-.78.8-2.07 0-2.86zM5.41 20L4 18.59l7.72-7.72 1.47 1.35L5.41 20z\"/>\n",
              "  </svg>\n",
              "      </button>\n",
              "      \n",
              "  <style>\n",
              "    .colab-df-container {\n",
              "      display:flex;\n",
              "      flex-wrap:wrap;\n",
              "      gap: 12px;\n",
              "    }\n",
              "\n",
              "    .colab-df-convert {\n",
              "      background-color: #E8F0FE;\n",
              "      border: none;\n",
              "      border-radius: 50%;\n",
              "      cursor: pointer;\n",
              "      display: none;\n",
              "      fill: #1967D2;\n",
              "      height: 32px;\n",
              "      padding: 0 0 0 0;\n",
              "      width: 32px;\n",
              "    }\n",
              "\n",
              "    .colab-df-convert:hover {\n",
              "      background-color: #E2EBFA;\n",
              "      box-shadow: 0px 1px 2px rgba(60, 64, 67, 0.3), 0px 1px 3px 1px rgba(60, 64, 67, 0.15);\n",
              "      fill: #174EA6;\n",
              "    }\n",
              "\n",
              "    [theme=dark] .colab-df-convert {\n",
              "      background-color: #3B4455;\n",
              "      fill: #D2E3FC;\n",
              "    }\n",
              "\n",
              "    [theme=dark] .colab-df-convert:hover {\n",
              "      background-color: #434B5C;\n",
              "      box-shadow: 0px 1px 3px 1px rgba(0, 0, 0, 0.15);\n",
              "      filter: drop-shadow(0px 1px 2px rgba(0, 0, 0, 0.3));\n",
              "      fill: #FFFFFF;\n",
              "    }\n",
              "  </style>\n",
              "\n",
              "      <script>\n",
              "        const buttonEl =\n",
              "          document.querySelector('#df-90325e94-31c1-4517-9657-d3a0dfd3f5a2 button.colab-df-convert');\n",
              "        buttonEl.style.display =\n",
              "          google.colab.kernel.accessAllowed ? 'block' : 'none';\n",
              "\n",
              "        async function convertToInteractive(key) {\n",
              "          const element = document.querySelector('#df-90325e94-31c1-4517-9657-d3a0dfd3f5a2');\n",
              "          const dataTable =\n",
              "            await google.colab.kernel.invokeFunction('convertToInteractive',\n",
              "                                                     [key], {});\n",
              "          if (!dataTable) return;\n",
              "\n",
              "          const docLinkHtml = 'Like what you see? Visit the ' +\n",
              "            '<a target=\"_blank\" href=https://colab.research.google.com/notebooks/data_table.ipynb>data table notebook</a>'\n",
              "            + ' to learn more about interactive tables.';\n",
              "          element.innerHTML = '';\n",
              "          dataTable['output_type'] = 'display_data';\n",
              "          await google.colab.output.renderOutput(dataTable, element);\n",
              "          const docLink = document.createElement('div');\n",
              "          docLink.innerHTML = docLinkHtml;\n",
              "          element.appendChild(docLink);\n",
              "        }\n",
              "      </script>\n",
              "    </div>\n",
              "  </div>\n",
              "  "
            ],
            "text/plain": [
              "                                         mean      sd   hdi_3%  hdi_97%  \\\n",
              "gdp_per_capita_daily_control_coef    -0.42200 2.31000 -4.81500  3.68400   \n",
              "inflation_percentual_control_coef    -0.47000 1.82700 -4.09700  2.68400   \n",
              "labor_force_total_control_coef       -0.68200 2.34300 -4.86500  4.09700   \n",
              "primary_income_payments_control_coef  0.67000 1.98300 -3.16200  4.27500   \n",
              "avg_salary_control_coef               0.20700 2.54500 -4.70200  5.05300   \n",
              "tempmax_control_coef                  0.50700 0.52900 -0.45800  1.55400   \n",
              "tempmin_control_coef                 -0.14200 0.47000 -1.07300  0.70400   \n",
              "temp_control_coef                    -0.31600 0.94900 -2.08500  1.55600   \n",
              "solarenergy_control_coef              0.07000 0.08500 -0.08700  0.22200   \n",
              "humidity_control_coef                 0.07200 0.07500 -0.08300  0.20000   \n",
              "precip_control_coef                   0.03600 0.05200 -0.06200  0.13200   \n",
              "trend_control_coef                    1.49200 0.22800  1.09900  1.94000   \n",
              "season_control_coef                   0.33400 0.04900  0.24300  0.42600   \n",
              "intercept                            -0.35600 1.62900 -3.34100  2.63900   \n",
              "google_impressions_adstock            0.91100 0.04400  0.83700  0.98900   \n",
              "google_impressions_gamma              0.16100 0.17800  0.00600  0.50300   \n",
              "google_impressions_alpha              3.84100 2.30400  0.88100  8.19400   \n",
              "google_impressions_media_coef         0.29900 0.14500  0.14400  0.51200   \n",
              "facebook_impressions_adstock          0.48400 0.17900  0.15300  0.80000   \n",
              "facebook_impressions_gamma            0.26900 0.17700  0.02300  0.65400   \n",
              "facebook_impressions_alpha            2.83000 1.83200  0.09500  6.00200   \n",
              "facebook_impressions_media_coef       0.23600 0.19000  0.02400  0.42300   \n",
              "sigma                                 0.08800 0.00600  0.07600  0.09700   \n",
              "\n",
              "                                      mcse_mean  mcse_sd  ess_bulk   ess_tail  \\\n",
              "gdp_per_capita_daily_control_coef       0.11700  0.08300 389.00000  715.00000   \n",
              "inflation_percentual_control_coef       0.08200  0.05800 496.00000  761.00000   \n",
              "labor_force_total_control_coef          0.09800  0.06900 572.00000  750.00000   \n",
              "primary_income_payments_control_coef    0.08500  0.06000 543.00000  806.00000   \n",
              "avg_salary_control_coef                 0.09900  0.07000 664.00000  896.00000   \n",
              "tempmax_control_coef                    0.02700  0.01900 375.00000  660.00000   \n",
              "tempmin_control_coef                    0.02500  0.01700 368.00000  633.00000   \n",
              "temp_control_coef                       0.05300  0.03800 318.00000  581.00000   \n",
              "solarenergy_control_coef                0.00400  0.00300 381.00000  870.00000   \n",
              "humidity_control_coef                   0.00300  0.00200 581.00000 1142.00000   \n",
              "precip_control_coef                     0.00200  0.00100 837.00000 1327.00000   \n",
              "trend_control_coef                      0.01500  0.01200 277.00000  236.00000   \n",
              "season_control_coef                     0.00300  0.00200 381.00000  907.00000   \n",
              "intercept                               0.08500  0.06000 346.00000  605.00000   \n",
              "google_impressions_adstock              0.00400  0.00300 119.00000  183.00000   \n",
              "google_impressions_gamma                0.01700  0.01200 115.00000  190.00000   \n",
              "google_impressions_alpha                0.13700  0.09700 240.00000  327.00000   \n",
              "google_impressions_media_coef           0.01200  0.00900 187.00000  188.00000   \n",
              "facebook_impressions_adstock            0.00800  0.00600 481.00000 1144.00000   \n",
              "facebook_impressions_gamma              0.00900  0.00700 421.00000  528.00000   \n",
              "facebook_impressions_alpha              0.09200  0.06500 321.00000  370.00000   \n",
              "facebook_impressions_media_coef         0.01100  0.00800 251.00000  432.00000   \n",
              "sigma                                   0.00000  0.00000 644.00000 1089.00000   \n",
              "\n",
              "                                       r_hat  \n",
              "gdp_per_capita_daily_control_coef    1.00000  \n",
              "inflation_percentual_control_coef    1.01000  \n",
              "labor_force_total_control_coef       1.01000  \n",
              "primary_income_payments_control_coef 1.01000  \n",
              "avg_salary_control_coef              1.00000  \n",
              "tempmax_control_coef                 1.01000  \n",
              "tempmin_control_coef                 1.01000  \n",
              "temp_control_coef                    1.01000  \n",
              "solarenergy_control_coef             1.01000  \n",
              "humidity_control_coef                1.01000  \n",
              "precip_control_coef                  1.00000  \n",
              "trend_control_coef                   1.00000  \n",
              "season_control_coef                  1.01000  \n",
              "intercept                            1.00000  \n",
              "google_impressions_adstock           1.01000  \n",
              "google_impressions_gamma             1.01000  \n",
              "google_impressions_alpha             1.00000  \n",
              "google_impressions_media_coef        1.00000  \n",
              "facebook_impressions_adstock         1.00000  \n",
              "facebook_impressions_gamma           1.01000  \n",
              "facebook_impressions_alpha           1.01000  \n",
              "facebook_impressions_media_coef      1.01000  \n",
              "sigma                                1.00000  "
            ]
          },
          "execution_count": 35,
          "metadata": {},
          "output_type": "execute_result"
        }
      ],
      "source": [
        "with model_2:\n",
        "    trace = pm.sample(tune=1000, target_accept = 0.95, return_inferencedata=True)\n",
        "    trace_summary = az.summary(trace)\n",
        "trace_summary"
      ]
    },
    {
      "cell_type": "code",
      "execution_count": null,
      "metadata": {
        "colab": {
          "base_uri": "https://localhost:8080/",
          "height": 326
        },
        "id": "bNJ_owKeZltv",
        "outputId": "acd7ac5a-d3a9-4e1d-d14a-1c3720f23895"
      },
      "outputs": [
        {
          "data": {
            "text/html": [
              "\n",
              "<style>\n",
              "    /* Turns off some styling */\n",
              "    progress {\n",
              "        /* gets rid of default border in Firefox and Opera. */\n",
              "        border: none;\n",
              "        /* Needs to be in here for Safari polyfill so background images work as expected. */\n",
              "        background-size: auto;\n",
              "    }\n",
              "    .progress-bar-interrupted, .progress-bar-interrupted::-webkit-progress-bar {\n",
              "        background: #F44336;\n",
              "    }\n",
              "</style>\n"
            ],
            "text/plain": [
              "<IPython.core.display.HTML object>"
            ]
          },
          "metadata": {},
          "output_type": "display_data"
        },
        {
          "data": {
            "text/html": [
              "\n",
              "    <div>\n",
              "      <progress value='2000' class='' max='2000' style='width:300px; height:20px; vertical-align: middle;'></progress>\n",
              "      100.00% [2000/2000 00:24<00:00]\n",
              "    </div>\n",
              "    "
            ],
            "text/plain": [
              "<IPython.core.display.HTML object>"
            ]
          },
          "metadata": {},
          "output_type": "display_data"
        },
        {
          "data": {
            "text/plain": [
              "<matplotlib.axes._subplots.AxesSubplot at 0x7f9b830c81d0>"
            ]
          },
          "execution_count": 36,
          "metadata": {},
          "output_type": "execute_result"
        },
        {
          "data": {
            "image/png": "[encoded data removed]",
            "text/plain": [
              "<Figure size 432x288 with 1 Axes>"
            ]
          },
          "metadata": {
            "needs_background": "light"
          },
          "output_type": "display_data"
        }
      ],
      "source": [
        "with model_2:\n",
        "    ppc_all = pm.sample_posterior_predictive(\n",
        "        trace, var_names=[\"outcome\"] + list(trace_summary.index), random_seed=42\n",
        "    )\n",
        "az.plot_ppc(az.from_pymc3(posterior_predictive=ppc_all, model=model_2), var_names = [\"outcome\"])"
      ]
    },
    {
      "cell_type": "code",
      "execution_count": null,
      "metadata": {
        "id": "z5iI5WQdZqUN"
      },
      "outputs": [],
      "source": [
        "az.plot_posterior(\n",
        "    trace,\n",
        "    var_names=['~contribution'],\n",
        "    filter_vars='like'\n",
        ")"
      ]
    },
    {
      "cell_type": "code",
      "execution_count": null,
      "metadata": {
        "id": "6SnG8oibZt8m"
      },
      "outputs": [],
      "source": [
        "az.plot_joint(\n",
        "    trace,\n",
        "    var_names=['facebook_impressions_media_coef', 'facebook_impressions_adstock'],\n",
        ")"
      ]
    },
    {
      "cell_type": "code",
      "execution_count": null,
      "metadata": {
        "id": "GcTmFXMtqLmo"
      },
      "outputs": [],
      "source": [
        "az.plot_joint(\n",
        "    trace,\n",
        "    var_names=['facebook_impressions_adstock', 'facebook_impressions_alpha'],\n",
        ")"
      ]
    },
    {
      "cell_type": "code",
      "execution_count": null,
      "metadata": {
        "id": "0b8H88V3qLb-"
      },
      "outputs": [],
      "source": [
        "az.plot_joint(\n",
        "    trace,\n",
        "    var_names=['facebook_impressions_media_coef', 'trend_control_coef'],\n",
        ")"
      ]
    },
    {
      "cell_type": "code",
      "execution_count": null,
      "metadata": {
        "id": "S3Pq4sddqWLQ"
      },
      "outputs": [],
      "source": [
        "az.plot_joint(\n",
        "    trace,\n",
        "    var_names=['facebook_impressions_gamma', 'facebook_impressions_alpha'],\n",
        ")"
      ]
    },
    {
      "cell_type": "code",
      "execution_count": null,
      "metadata": {
        "colab": {
          "base_uri": "https://localhost:8080/",
          "height": 54
        },
        "id": "r10y6fgacLjR",
        "outputId": "9270e1b0-ce9b-4b3d-c0f9-83b85c1d923f"
      },
      "outputs": [
        {
          "data": {
            "text/html": [
              "\n",
              "<style>\n",
              "    /* Turns off some styling */\n",
              "    progress {\n",
              "        /* gets rid of default border in Firefox and Opera. */\n",
              "        border: none;\n",
              "        /* Needs to be in here for Safari polyfill so background images work as expected. */\n",
              "        background-size: auto;\n",
              "    }\n",
              "    .progress-bar-interrupted, .progress-bar-interrupted::-webkit-progress-bar {\n",
              "        background: #F44336;\n",
              "    }\n",
              "</style>\n"
            ],
            "text/plain": [
              "<IPython.core.display.HTML object>"
            ]
          },
          "metadata": {},
          "output_type": "display_data"
        },
        {
          "data": {
            "text/html": [
              "\n",
              "    <div>\n",
              "      <progress value='2000' class='' max='2000' style='width:300px; height:20px; vertical-align: middle;'></progress>\n",
              "      100.00% [2000/2000 00:21<00:00]\n",
              "    </div>\n",
              "    "
            ],
            "text/plain": [
              "<IPython.core.display.HTML object>"
            ]
          },
          "metadata": {},
          "output_type": "display_data"
        },
        {
          "data": {
            "text/plain": [
              "0.4890607926009896"
            ]
          },
          "execution_count": 42,
          "metadata": {},
          "output_type": "execute_result"
        }
      ],
      "source": [
        "with model_2:\n",
        "    posterior = pm.sample_posterior_predictive(trace)\n",
        "posterior['outcome'].mean()"
      ]
    },
    {
      "cell_type": "code",
      "execution_count": null,
      "metadata": {
        "id": "o7l6BLZPFcOx"
      },
      "outputs": [],
      "source": [
        "az.plot_trace(trace)"
      ]
    },
    {
      "cell_type": "code",
      "execution_count": null,
      "metadata": {
        "colab": {
          "base_uri": "https://localhost:8080/"
        },
        "id": "g2XofA9mcMDP",
        "outputId": "e364defb-90db-4038-8708-7dea232e5c40"
      },
      "outputs": [
        {
          "name": "stdout",
          "output_type": "stream",
          "text": [
            "RMSE: 700813.0923435014\n",
            "MAPE: 0.9328251111074303\n",
            "NRMSE: 0.6117382471077132\n"
          ]
        }
      ],
      "source": [
        "def nrmse(y_true, y_pred):\n",
        "   return np.sqrt(np.mean((y_true - y_pred) ** 2)) / (np.max(y_true) - np.min(y_true))\n",
        "\n",
        "y_true = data[target].values[START_ANALYSIS_INDEX:END_ANALYSIS_INDEX]\n",
        "#restore the original revenue by multiplying back 100K\n",
        "y_pred = ppc_all[\"outcome\"].mean(axis = 0) * 100_000\n",
        "print(f\"RMSE: {np.sqrt(np.mean((y_true - y_pred)**2))}\")\n",
        "print(f\"MAPE: {np.mean(np.abs((y_true - y_pred) / y_true))}\")\n",
        "print(f\"NRMSE: {nrmse(y_true, y_pred)}\")"
      ]
    },
    {
      "cell_type": "code",
      "execution_count": null,
      "metadata": {
        "colab": {
          "base_uri": "https://localhost:8080/"
        },
        "id": "PnZCr3JblN2V",
        "outputId": "6d395d69-353d-4b0f-a9a9-c3a47c340909"
      },
      "outputs": [
        {
          "name": "stdout",
          "output_type": "stream",
          "text": [
            "93074.25052207168\n",
            "0.11382598530427479\n",
            "0.08124431390806373\n"
          ]
        }
      ],
      "source": [
        "trace_summary = az.summary(trace)\n",
        "trace_summary = trace_summary.rename(columns={'mean': 'old_mean'})\n",
        "trace_summary[\"mean\"] = np.inf\n",
        "\n",
        "\n",
        "for variable in list(trace_summary.index):\n",
        "    mean_variable = ppc_all[variable].mean()\n",
        "    trace_summary.loc[trace_summary.index == variable, \"mean\"] = mean_variable\n",
        "\t\n",
        "\t\n",
        "y_true = data[target].values[START_ANALYSIS_INDEX:END_ANALYSIS_INDEX]\n",
        "y_pred = dependent_transformation.inverse_transform(ppc_all[\"outcome\"].mean(axis = 0).reshape(-1, 1)).reshape(-1)\n",
        "\n",
        "print(np.sqrt(np.mean((y_true - y_pred)**2)))\n",
        "print(np.mean(np.abs((y_true - y_pred) / y_true)))\n",
        "print(nrmse(y_true, y_pred))"
      ]
    },
    {
      "cell_type": "code",
      "execution_count": null,
      "metadata": {
        "id": "mrFbaK8XaTLP"
      },
      "outputs": [],
      "source": [
        "X = data_transformed.drop(columns=['sales'])\n",
        "y = data_transformed['sales']\n",
        "\n",
        "X_train, X_test, y_train, y_test = train_test_split(X, y, test_size = 0.3, shuffle = False)"
      ]
    },
    {
      "cell_type": "code",
      "execution_count": null,
      "metadata": {
        "colab": {
          "base_uri": "https://localhost:8080/",
          "height": 502
        },
        "id": "pATOj7SgZyM7",
        "outputId": "c3bd387a-48f3-4937-f0d4-51bb7f8476d7"
      },
      "outputs": [
        {
          "data": {
            "text/plain": [
              "<matplotlib.legend.Legend at 0x7f9b850f5fd0>"
            ]
          },
          "execution_count": 120,
          "metadata": {},
          "output_type": "execute_result"
        },
        {
          "data": {
            "image/png": "[encoded data removed]",
            "text/plain": [
              "<Figure size 1440x576 with 1 Axes>"
            ]
          },
          "metadata": {},
          "output_type": "display_data"
        }
      ],
      "source": [
        "means = posterior['outcome'].mean(0)\n",
        "stds = posterior['outcome'].std(0)\n",
        "plt.figure(figsize=(20, 8))\n",
        "plt.plot(y.values[START_ANALYSIS_INDEX:END_ANALYSIS_INDEX], linewidth=1, c='r', label='Observations')\n",
        "plt.plot(means, linewidth=1, c='b', label='Mean prediction')\n",
        "plt.fill_between(np.arange(len(y[START_ANALYSIS_INDEX:END_ANALYSIS_INDEX])), means - 2*stds, means + 2*stds, alpha=0.33)\n",
        "plt.legend()"
      ]
    },
    {
      "cell_type": "code",
      "execution_count": null,
      "metadata": {
        "id": "CsuJIZjhihVG"
      },
      "outputs": [],
      "source": [
        "def plot_residuals(actual_vs_predicted: pd.DataFrame, figure_size = (15, 10)):\n",
        "    \"\"\"Residual plot\n",
        "\n",
        "    Args:\n",
        "        actual_vs_predicted (pd.DataFrame): Data Frame with three columns: date, actual, predicted\n",
        "        figure_size (tuple, optional): Figure size. Defaults to (15, 10).\n",
        "    \"\"\"\n",
        "    \n",
        "    plt = ggplot(actual_vs_predicted, aes(\"predicted\", y = \"actual - predicted\"))\\\n",
        "    + geom_point(size = 2, show_legend = True)\\\n",
        "    + geom_hline(yintercept = 0, linetype = \"dashed\")\\\n",
        "    + geom_smooth(se=True, method = \"loess\", color = \"blue\")\\\n",
        "    + ggtitle(\"Actuals vs. predicted response\") + xlab(\"predicted\") + ylab(\"residual\")\\\n",
        "    + theme(figure_size = figure_size,\n",
        "                        legend_direction='horizontal', \n",
        "                        legend_position= \"bottom\",\n",
        "                        legend_box_spacing=0.5,\n",
        "                        legend_key_size=20, \n",
        "                        legend_entry_spacing_y=10, \n",
        "                        axis_text_y=element_text(weight=\"bold\", size = 10)\n",
        "        ) \n",
        "    \n",
        "    return plt\n",
        "\n",
        "plot = plot_residuals(pd.DataFrame({\"actual\": y_true, \"predicted\": y_pred}), figure_size = (15, 5))\n",
        "plot"
      ]
    },
    {
      "cell_type": "code",
      "execution_count": null,
      "metadata": {
        "id": "iXG0aJu2gxct"
      },
      "outputs": [],
      "source": [
        "exposure_to_spend_menten_func = lambda exposure, V_max, K_m: exposure * K_m / (V_max - exposure)\n",
        "spend_df = pd.DataFrame()\n",
        "for media_channel in media_channels:\n",
        "    temp_series = data[media_channel].iloc[START_ANALYSIS_INDEX:END_ANALYSIS_INDEX].values\n",
        "    #exposure to spend should\n",
        "    if len(media_spend_exposure_df[media_spend_exposure_df.exposure == media_channel]) > 0:\n",
        "        \n",
        "        vmax = media_spend_exposure_df[media_spend_exposure_df.exposure == media_channel][\"V_max\"].iloc[0]\n",
        "        km = media_spend_exposure_df[media_spend_exposure_df.exposure == media_channel][\"K_m\"].iloc[0]\n",
        "        spends = exposure_to_spend_menten_func(temp_series, V_max = vmax, K_m = km)\n",
        "        spends_total = spends.sum()\n",
        "    else:\n",
        "        spends_total = temp_series.sum()\n",
        "        \n",
        "    spend_df = pd.concat([spend_df, pd.DataFrame({'media': [media_channel], 'total_spend': [spends_total]})]).reset_index(drop=True)\n",
        "    spend_df[\"spend_share\"] = spend_df[\"total_spend\"] / spend_df[\"total_spend\"].sum()\n",
        "spend_df"
      ]
    },
    {
      "cell_type": "code",
      "execution_count": null,
      "metadata": {
        "colab": {
          "base_uri": "https://localhost:8080/",
          "height": 112
        },
        "id": "0x1bxUJypF56",
        "outputId": "9e8e236b-92e6-4819-ff24-6cc11af8597a"
      },
      "outputs": [
        {
          "data": {
            "text/html": [
              "\n",
              "  <div id=\"df-0b0d5871-3f49-44ec-9038-6fef21c9f22f\">\n",
              "    <div class=\"colab-df-container\">\n",
              "      <div>\n",
              "<style scoped>\n",
              "    .dataframe tbody tr th:only-of-type {\n",
              "        vertical-align: middle;\n",
              "    }\n",
              "\n",
              "    .dataframe tbody tr th {\n",
              "        vertical-align: top;\n",
              "    }\n",
              "\n",
              "    .dataframe thead th {\n",
              "        text-align: right;\n",
              "    }\n",
              "</style>\n",
              "<table border=\"1\" class=\"dataframe\">\n",
              "  <thead>\n",
              "    <tr style=\"text-align: right;\">\n",
              "      <th></th>\n",
              "      <th>media</th>\n",
              "      <th>total_effect</th>\n",
              "      <th>effect_share</th>\n",
              "    </tr>\n",
              "  </thead>\n",
              "  <tbody>\n",
              "    <tr>\n",
              "      <th>0</th>\n",
              "      <td>google_impressions</td>\n",
              "      <td>25.44188</td>\n",
              "      <td>0.29797</td>\n",
              "    </tr>\n",
              "    <tr>\n",
              "      <th>1</th>\n",
              "      <td>facebook_impressions</td>\n",
              "      <td>59.94276</td>\n",
              "      <td>0.70203</td>\n",
              "    </tr>\n",
              "  </tbody>\n",
              "</table>\n",
              "</div>\n",
              "      <button class=\"colab-df-convert\" onclick=\"convertToInteractive('df-0b0d5871-3f49-44ec-9038-6fef21c9f22f')\"\n",
              "              title=\"Convert this dataframe to an interactive table.\"\n",
              "              style=\"display:none;\">\n",
              "        \n",
              "  <svg xmlns=\"http://www.w3.org/2000/svg\" height=\"24px\"viewBox=\"0 0 24 24\"\n",
              "       width=\"24px\">\n",
              "    <path d=\"M0 0h24v24H0V0z\" fill=\"none\"/>\n",
              "    <path d=\"M18.56 5.44l.94 2.06.94-2.06 2.06-.94-2.06-.94-.94-2.06-.94 2.06-2.06.94zm-11 1L8.5 8.5l.94-2.06 2.06-.94-2.06-.94L8.5 2.5l-.94 2.06-2.06.94zm10 10l.94 2.06.94-2.06 2.06-.94-2.06-.94-.94-2.06-.94 2.06-2.06.94z\"/><path d=\"M17.41 7.96l-1.37-1.37c-.4-.4-.92-.59-1.43-.59-.52 0-1.04.2-1.43.59L10.3 9.45l-7.72 7.72c-.78.78-.78 2.05 0 2.83L4 21.41c.39.39.9.59 1.41.59.51 0 1.02-.2 1.41-.59l7.78-7.78 2.81-2.81c.8-.78.8-2.07 0-2.86zM5.41 20L4 18.59l7.72-7.72 1.47 1.35L5.41 20z\"/>\n",
              "  </svg>\n",
              "      </button>\n",
              "      \n",
              "  <style>\n",
              "    .colab-df-container {\n",
              "      display:flex;\n",
              "      flex-wrap:wrap;\n",
              "      gap: 12px;\n",
              "    }\n",
              "\n",
              "    .colab-df-convert {\n",
              "      background-color: #E8F0FE;\n",
              "      border: none;\n",
              "      border-radius: 50%;\n",
              "      cursor: pointer;\n",
              "      display: none;\n",
              "      fill: #1967D2;\n",
              "      height: 32px;\n",
              "      padding: 0 0 0 0;\n",
              "      width: 32px;\n",
              "    }\n",
              "\n",
              "    .colab-df-convert:hover {\n",
              "      background-color: #E2EBFA;\n",
              "      box-shadow: 0px 1px 2px rgba(60, 64, 67, 0.3), 0px 1px 3px 1px rgba(60, 64, 67, 0.15);\n",
              "      fill: #174EA6;\n",
              "    }\n",
              "\n",
              "    [theme=dark] .colab-df-convert {\n",
              "      background-color: #3B4455;\n",
              "      fill: #D2E3FC;\n",
              "    }\n",
              "\n",
              "    [theme=dark] .colab-df-convert:hover {\n",
              "      background-color: #434B5C;\n",
              "      box-shadow: 0px 1px 3px 1px rgba(0, 0, 0, 0.15);\n",
              "      filter: drop-shadow(0px 1px 2px rgba(0, 0, 0, 0.3));\n",
              "      fill: #FFFFFF;\n",
              "    }\n",
              "  </style>\n",
              "\n",
              "      <script>\n",
              "        const buttonEl =\n",
              "          document.querySelector('#df-0b0d5871-3f49-44ec-9038-6fef21c9f22f button.colab-df-convert');\n",
              "        buttonEl.style.display =\n",
              "          google.colab.kernel.accessAllowed ? 'block' : 'none';\n",
              "\n",
              "        async function convertToInteractive(key) {\n",
              "          const element = document.querySelector('#df-0b0d5871-3f49-44ec-9038-6fef21c9f22f');\n",
              "          const dataTable =\n",
              "            await google.colab.kernel.invokeFunction('convertToInteractive',\n",
              "                                                     [key], {});\n",
              "          if (!dataTable) return;\n",
              "\n",
              "          const docLinkHtml = 'Like what you see? Visit the ' +\n",
              "            '<a target=\"_blank\" href=https://colab.research.google.com/notebooks/data_table.ipynb>data table notebook</a>'\n",
              "            + ' to learn more about interactive tables.';\n",
              "          element.innerHTML = '';\n",
              "          dataTable['output_type'] = 'display_data';\n",
              "          await google.colab.output.renderOutput(dataTable, element);\n",
              "          const docLink = document.createElement('div');\n",
              "          docLink.innerHTML = docLinkHtml;\n",
              "          element.appendChild(docLink);\n",
              "        }\n",
              "      </script>\n",
              "    </div>\n",
              "  </div>\n",
              "  "
            ],
            "text/plain": [
              "                  media  total_effect  effect_share\n",
              "0    google_impressions      25.44188       0.29797\n",
              "1  facebook_impressions      59.94276       0.70203"
            ]
          },
          "execution_count": 49,
          "metadata": {},
          "output_type": "execute_result"
        }
      ],
      "source": [
        "data_transformed_decomposed = data_transformed.copy()\n",
        "response_df = pd.DataFrame()\n",
        "for media_channel in media_channels:\n",
        "    response = data_transformed_decomposed[media_channel].iloc[START_ANALYSIS_INDEX:END_ANALYSIS_INDEX].values\n",
        "    response_total = response.sum()\n",
        "    \n",
        "    response_df = pd.concat([response_df, pd.DataFrame({'media': [media_channel], 'total_effect': [response_total]})]).reset_index(drop=True)\n",
        "response_df[\"effect_share\"] = response_df[\"total_effect\"] / response_df[\"total_effect\"].sum()\n",
        "\n",
        "response_df"
      ]
    },
    {
      "cell_type": "code",
      "execution_count": null,
      "metadata": {
        "colab": {
          "base_uri": "https://localhost:8080/",
          "height": 112
        },
        "id": "rQ6ql0vXpMmn",
        "outputId": "3e498f08-7b32-4a3b-e209-39c6d7268cce"
      },
      "outputs": [
        {
          "data": {
            "text/html": [
              "\n",
              "  <div id=\"df-8bc9225a-37d8-4bbd-8220-388aca572b7a\">\n",
              "    <div class=\"colab-df-container\">\n",
              "      <div>\n",
              "<style scoped>\n",
              "    .dataframe tbody tr th:only-of-type {\n",
              "        vertical-align: middle;\n",
              "    }\n",
              "\n",
              "    .dataframe tbody tr th {\n",
              "        vertical-align: top;\n",
              "    }\n",
              "\n",
              "    .dataframe thead th {\n",
              "        text-align: right;\n",
              "    }\n",
              "</style>\n",
              "<table border=\"1\" class=\"dataframe\">\n",
              "  <thead>\n",
              "    <tr style=\"text-align: right;\">\n",
              "      <th></th>\n",
              "      <th>media</th>\n",
              "      <th>total_spend</th>\n",
              "      <th>spend_share</th>\n",
              "      <th>total_effect</th>\n",
              "      <th>effect_share</th>\n",
              "    </tr>\n",
              "  </thead>\n",
              "  <tbody>\n",
              "    <tr>\n",
              "      <th>0</th>\n",
              "      <td>google_impressions</td>\n",
              "      <td>361295.47629</td>\n",
              "      <td>0.34896</td>\n",
              "      <td>25.44188</td>\n",
              "      <td>0.29797</td>\n",
              "    </tr>\n",
              "    <tr>\n",
              "      <th>1</th>\n",
              "      <td>facebook_impressions</td>\n",
              "      <td>674068.17220</td>\n",
              "      <td>0.65104</td>\n",
              "      <td>59.94276</td>\n",
              "      <td>0.70203</td>\n",
              "    </tr>\n",
              "  </tbody>\n",
              "</table>\n",
              "</div>\n",
              "      <button class=\"colab-df-convert\" onclick=\"convertToInteractive('df-8bc9225a-37d8-4bbd-8220-388aca572b7a')\"\n",
              "              title=\"Convert this dataframe to an interactive table.\"\n",
              "              style=\"display:none;\">\n",
              "        \n",
              "  <svg xmlns=\"http://www.w3.org/2000/svg\" height=\"24px\"viewBox=\"0 0 24 24\"\n",
              "       width=\"24px\">\n",
              "    <path d=\"M0 0h24v24H0V0z\" fill=\"none\"/>\n",
              "    <path d=\"M18.56 5.44l.94 2.06.94-2.06 2.06-.94-2.06-.94-.94-2.06-.94 2.06-2.06.94zm-11 1L8.5 8.5l.94-2.06 2.06-.94-2.06-.94L8.5 2.5l-.94 2.06-2.06.94zm10 10l.94 2.06.94-2.06 2.06-.94-2.06-.94-.94-2.06-.94 2.06-2.06.94z\"/><path d=\"M17.41 7.96l-1.37-1.37c-.4-.4-.92-.59-1.43-.59-.52 0-1.04.2-1.43.59L10.3 9.45l-7.72 7.72c-.78.78-.78 2.05 0 2.83L4 21.41c.39.39.9.59 1.41.59.51 0 1.02-.2 1.41-.59l7.78-7.78 2.81-2.81c.8-.78.8-2.07 0-2.86zM5.41 20L4 18.59l7.72-7.72 1.47 1.35L5.41 20z\"/>\n",
              "  </svg>\n",
              "      </button>\n",
              "      \n",
              "  <style>\n",
              "    .colab-df-container {\n",
              "      display:flex;\n",
              "      flex-wrap:wrap;\n",
              "      gap: 12px;\n",
              "    }\n",
              "\n",
              "    .colab-df-convert {\n",
              "      background-color: #E8F0FE;\n",
              "      border: none;\n",
              "      border-radius: 50%;\n",
              "      cursor: pointer;\n",
              "      display: none;\n",
              "      fill: #1967D2;\n",
              "      height: 32px;\n",
              "      padding: 0 0 0 0;\n",
              "      width: 32px;\n",
              "    }\n",
              "\n",
              "    .colab-df-convert:hover {\n",
              "      background-color: #E2EBFA;\n",
              "      box-shadow: 0px 1px 2px rgba(60, 64, 67, 0.3), 0px 1px 3px 1px rgba(60, 64, 67, 0.15);\n",
              "      fill: #174EA6;\n",
              "    }\n",
              "\n",
              "    [theme=dark] .colab-df-convert {\n",
              "      background-color: #3B4455;\n",
              "      fill: #D2E3FC;\n",
              "    }\n",
              "\n",
              "    [theme=dark] .colab-df-convert:hover {\n",
              "      background-color: #434B5C;\n",
              "      box-shadow: 0px 1px 3px 1px rgba(0, 0, 0, 0.15);\n",
              "      filter: drop-shadow(0px 1px 2px rgba(0, 0, 0, 0.3));\n",
              "      fill: #FFFFFF;\n",
              "    }\n",
              "  </style>\n",
              "\n",
              "      <script>\n",
              "        const buttonEl =\n",
              "          document.querySelector('#df-8bc9225a-37d8-4bbd-8220-388aca572b7a button.colab-df-convert');\n",
              "        buttonEl.style.display =\n",
              "          google.colab.kernel.accessAllowed ? 'block' : 'none';\n",
              "\n",
              "        async function convertToInteractive(key) {\n",
              "          const element = document.querySelector('#df-8bc9225a-37d8-4bbd-8220-388aca572b7a');\n",
              "          const dataTable =\n",
              "            await google.colab.kernel.invokeFunction('convertToInteractive',\n",
              "                                                     [key], {});\n",
              "          if (!dataTable) return;\n",
              "\n",
              "          const docLinkHtml = 'Like what you see? Visit the ' +\n",
              "            '<a target=\"_blank\" href=https://colab.research.google.com/notebooks/data_table.ipynb>data table notebook</a>'\n",
              "            + ' to learn more about interactive tables.';\n",
              "          element.innerHTML = '';\n",
              "          dataTable['output_type'] = 'display_data';\n",
              "          await google.colab.output.renderOutput(dataTable, element);\n",
              "          const docLink = document.createElement('div');\n",
              "          docLink.innerHTML = docLinkHtml;\n",
              "          element.appendChild(docLink);\n",
              "        }\n",
              "      </script>\n",
              "    </div>\n",
              "  </div>\n",
              "  "
            ],
            "text/plain": [
              "                  media  total_spend  spend_share  total_effect  effect_share\n",
              "0    google_impressions 361295.47629      0.34896      25.44188       0.29797\n",
              "1  facebook_impressions 674068.17220      0.65104      59.94276       0.70203"
            ]
          },
          "execution_count": 50,
          "metadata": {},
          "output_type": "execute_result"
        }
      ],
      "source": [
        "\n",
        "\n",
        "spend_response_share_df = pd.concat([spend_df, response_df.drop(columns=[\"media\"])], axis = 1)\n",
        "spend_response_share_df\n",
        "\n"
      ]
    },
    {
      "cell_type": "code",
      "execution_count": null,
      "metadata": {
        "colab": {
          "base_uri": "https://localhost:8080/",
          "height": 624
        },
        "id": "Chj6J7wrpOZt",
        "outputId": "ed517554-348a-4500-9243-bfb9c56820ab"
      },
      "outputs": [
        {
          "name": "stderr",
          "output_type": "stream",
          "text": [
            "/usr/local/lib/python3.7/dist-packages/plotnine/utils.py:1246: FutureWarning:\n",
            "\n",
            "is_categorical is deprecated and will be removed in a future version.  Use is_categorical_dtype instead\n",
            "\n"
          ]
        },
        {
          "data": {
            "image/png": "[encoded data removed]",
            "text/plain": [
              "<Figure size 1000x600 with 1 Axes>"
            ]
          },
          "metadata": {},
          "output_type": "display_data"
        },
        {
          "data": {
            "text/plain": [
              "<ggplot: (8769115471577)>"
            ]
          },
          "execution_count": 51,
          "metadata": {},
          "output_type": "execute_result"
        }
      ],
      "source": [
        "def plot_spend_vs_effect_share(decomp_spend: pd.DataFrame, figure_size = (15, 10)):\n",
        "    \"\"\"Spend vs Effect Share plot\n",
        "\n",
        "    Args:\n",
        "        decomp_spend (pd.DataFrame): Data with media decompositions. The following columns should be present: media, spend_share, effect_share per media variable\n",
        "        figure_size (tuple, optional): Figure size. Defaults to (15, 10).\n",
        "\n",
        "    Example:\n",
        "        decomp_spend:\n",
        "        media         spend_share effect_share\n",
        "        tv_S           0.31        0.44\n",
        "        ooh_S          0.23        0.34\n",
        "    \n",
        "    Returns:\n",
        "        [plotnine]: plotnine plot\n",
        "    \"\"\"\n",
        "    \n",
        "    plot_spend_effect_share = decomp_spend.melt(id_vars = [\"media\"], value_vars = [\"spend_share\", \"effect_share\"])\n",
        "\n",
        "    plt = ggplot(plot_spend_effect_share, aes(\"media\", \"value\", fill = \"variable\")) \\\n",
        "    + geom_bar(stat = \"identity\", position = \"dodge\") \\\n",
        "    + geom_text(aes(label = \"value * 100\", group = \"variable\"), color = \"darkblue\", position=position_dodge(width = 0.5), format_string = \"{:.2f}%\") \\\n",
        "    + coord_flip() \\\n",
        "    + ggtitle(\"Share of Spend VS Share of Effect\") + ylab(\"\") + xlab(\"\") \\\n",
        "    + theme(figure_size = figure_size, \n",
        "                    legend_direction='vertical', \n",
        "                    legend_title=element_blank(),\n",
        "                    legend_key_size=20, \n",
        "                    legend_entry_spacing_y=5) \n",
        "    return plt\n",
        "plot_spend_vs_effect_share(spend_response_share_df, figure_size = (10, 6))"
      ]
    },
    {
      "cell_type": "code",
      "execution_count": null,
      "metadata": {
        "id": "PpmIJZWRfjDV"
      },
      "outputs": [],
      "source": [
        "adstock_params = trace_summary[trace_summary.index.str.contains(\"adstock\")][[\"mean\", \"sd\"]].reset_index().rename(columns = {'index': 'name'}).assign(name = lambda x: x[\"name\"].str.replace(\"_adstock\", \"\"))\n",
        "saturation_params = pd.merge(\n",
        "    trace_summary[trace_summary.index.str.contains(\"gamma\")][[\"mean\"]].reset_index().rename(columns = {'mean': 'gamma'}).assign(name = lambda x: x[\"index\"].str.replace(\"_gamma\", \"\")), \n",
        "    trace_summary[trace_summary.index.str.contains(\"alpha\")][[\"mean\"]].reset_index().rename(columns = {'mean': 'alpha'}).assign(name = lambda x: x[\"index\"].str.replace(\"_alpha\", \"\")), on = \"name\" )\n",
        "control_coefficients = trace_summary[trace_summary.index.str.contains(\"_control_coef\")][[\"mean\", \"sd\"]].reset_index().assign(name = lambda x: x[\"index\"].str.replace(\"_control_coef\", \"\"))\n",
        "delay_coefficients = trace_summary[trace_summary.index.str.contains(\"_media_coef\")][[\"mean\", \"sd\"]].reset_index().assign(name = lambda x: x[\"index\"].str.replace(\"_media_coef\", \"\"))\n"
      ]
    },
    {
      "cell_type": "code",
      "execution_count": null,
      "metadata": {
        "colab": {
          "base_uri": "https://localhost:8080/"
        },
        "id": "jX_ct2TBkd52",
        "outputId": "6014b57c-f2b5-45b5-b72c-1459c3f5d101"
      },
      "outputs": [
        {
          "name": "stdout",
          "output_type": "stream",
          "text": [
            "google_impressions\n",
            "\tadstock 0.910691389855212 transformation\n",
            "\tsaturation alpha 3.8409247013207475, gamma 0.16067125593255646 transformation\n",
            "\tcoefficient: 0.29851066453261704\n",
            "facebook_impressions\n",
            "\tadstock 0.48430447439478796 transformation\n",
            "\tsaturation alpha 2.8298620345001626, gamma 0.26947979333663785 transformation\n",
            "\tcoefficient: 0.23648387895359582\n"
          ]
        }
      ],
      "source": [
        "for delay_channel in delay_channels:\n",
        "    print(delay_channel)\n",
        "    \n",
        "    adstock = adstock_params[adstock_params.name == delay_channel]\n",
        "    adstock_theta = adstock[\"mean\"].iloc[0]\n",
        "    \n",
        "    print(f\"\\tadstock {adstock_theta} transformation\")\n",
        "    \n",
        "    data_transformed_decomposed[delay_channel] = adstock_geometric(data_transformed_decomposed[delay_channel].values, adstock_theta)\n",
        "    \n",
        "    saturation = saturation_params[saturation_params.name == delay_channel]\n",
        "    \n",
        "    saturation_alpha = saturation[\"alpha\"].iloc[0]\n",
        "    saturation_gamma = saturation[\"gamma\"].iloc[0]\n",
        "    \n",
        "    print(f\"\\tsaturation alpha {saturation_alpha}, gamma {saturation_gamma} transformation\")\n",
        "    \n",
        "    #use the unbound version of saturation\n",
        "    data_transformed_decomposed[delay_channel] = saturation_hill_pymc3(data_transformed_decomposed[delay_channel].values, alpha = saturation_alpha, gamma = saturation_gamma)\n",
        "    \n",
        "    coefs = delay_coefficients[delay_coefficients.name == delay_channel]\n",
        "    coef = coefs[\"mean\"].iloc[0]\n",
        "    \n",
        "    data_transformed_decomposed[delay_channel] = data_transformed_decomposed[delay_channel] * coef\n",
        "    print(f\"\\tcoefficient: {coef}\")"
      ]
    },
    {
      "cell_type": "code",
      "execution_count": null,
      "metadata": {
        "colab": {
          "base_uri": "https://localhost:8080/"
        },
        "id": "xd2w3YH_jqod",
        "outputId": "457ab3b0-9867-42cf-84da-ceb0ea17007f"
      },
      "outputs": [
        {
          "name": "stdout",
          "output_type": "stream",
          "text": [
            "Intercept: -0.35624189359254776\n",
            "Control Coefficient: gdp_per_capita_daily: -0.42223620382668453\n",
            "Control Coefficient: inflation_percentual: -0.4699018672646347\n",
            "Control Coefficient: labor_force_total: -0.6820023675528707\n",
            "Control Coefficient: primary_income_payments: 0.669882590537984\n",
            "Control Coefficient: avg_salary: 0.20662387638552338\n",
            "Control Coefficient: tempmax: 0.5068756679670413\n",
            "Control Coefficient: tempmin: -0.14171931778617228\n",
            "Control Coefficient: temp: -0.3157304741183704\n",
            "Control Coefficient: solarenergy: 0.06977230594917808\n",
            "Control Coefficient: humidity: 0.07159785497165674\n",
            "Control Coefficient: precip: 0.036041792754037585\n",
            "Control Coefficient: trend: 1.491790753014884\n",
            "Control Coefficient: season: 0.3336881589647412\n"
          ]
        }
      ],
      "source": [
        "intercept = trace_summary[trace_summary.index == \"intercept\"][\"mean\"].iloc[0]\n",
        "data_transformed_decomposed[\"intercept\"] = intercept\n",
        "print(f\"Intercept: {intercept}\")\n",
        "    \n",
        "#apply coefficients\n",
        "\n",
        "for variable in control_variables:\n",
        "    coefs = control_coefficients[control_coefficients.name == variable]\n",
        "    coef = coefs[\"mean\"].iloc[0]\n",
        "    print(f\"Control Coefficient: {variable}: {coef}\")\n",
        "    data_transformed_decomposed[variable] = data_transformed_decomposed[variable] * coef\n",
        "    \n",
        "data_transformed_decomposed[\"prediction\"] = data_transformed_decomposed[delay_channels + control_variables + [\"intercept\"]].sum(axis = 1)\n",
        "y_pred_decomposed = dependent_transformation.inverse_transform(data_transformed_decomposed[\"prediction\"].values.reshape(-1,1))[START_ANALYSIS_INDEX:END_ANALYSIS_INDEX].reshape(-1)"
      ]
    },
    {
      "cell_type": "code",
      "execution_count": null,
      "metadata": {
        "id": "T9tzvUUVsPsV"
      },
      "outputs": [],
      "source": [
        "data_transformed_decomposed.to_csv('/content/drive/MyDrive/Bayesian MMM/data_transformed_decomposed.csv')"
      ]
    },
    {
      "cell_type": "code",
      "execution_count": null,
      "metadata": {
        "id": "nSAJORU4ryuF"
      },
      "outputs": [],
      "source": [
        "data_example = data.loc[:149].copy()\n",
        "data_example['predict'] = dependent_transformation.inverse_transform(posterior[\"outcome\"].mean(axis = 0).reshape(-1, 1)).reshape(-1) # y_pred_decomposed.copy()\n",
        "data_example.head(5)"
      ]
    },
    {
      "cell_type": "code",
      "execution_count": null,
      "metadata": {
        "id": "CraOWSGZ8sOY"
      },
      "outputs": [],
      "source": [
        "contribution_frame = data_transformed_decomposed[['date_week','sales','facebook_impressions','google_impressions','prediction','intercept']].copy()\n",
        "contribution_frame['sales'] = dependent_transformation.inverse_transform(contribution_frame['sales'].values.reshape(-1,1)).reshape(-1)\n",
        "contribution_frame['facebook_impressions'] = dependent_transformation.inverse_transform(contribution_frame['facebook_impressions'].values.reshape(-1,1)).reshape(-1)\n",
        "contribution_frame['google_impressions'] = dependent_transformation.inverse_transform(contribution_frame['google_impressions'].values.reshape(-1,1)).reshape(-1)\n",
        "contribution_frame['prediction'] = dependent_transformation.inverse_transform(contribution_frame['prediction'].values.reshape(-1,1)).reshape(-1)\n",
        "contribution_frame['intercept'] = dependent_transformation.inverse_transform(contribution_frame['intercept'].values.reshape(-1,1)).reshape(-1)\n",
        "contribution_frame"
      ]
    },
    {
      "cell_type": "code",
      "execution_count": null,
      "metadata": {
        "colab": {
          "base_uri": "https://localhost:8080/",
          "height": 612
        },
        "id": "GZrO0drr-fwz",
        "outputId": "286aff57-88ce-4217-df32-d03a43d1bdbd"
      },
      "outputs": [
        {
          "data": {
            "text/plain": [
              "<matplotlib.legend.Legend at 0x7f9b790ff5d0>"
            ]
          },
          "execution_count": 97,
          "metadata": {},
          "output_type": "execute_result"
        },
        {
          "data": {
            "image/png": "[encoded data removed]",
            "text/plain": [
              "<Figure size 1152x720 with 1 Axes>"
            ]
          },
          "metadata": {},
          "output_type": "display_data"
        }
      ],
      "source": [
        "adj_contributions = contribution_frame[['date_week', 'base', 'facebook_impressions', 'google_impressions']].copy()\n",
        "adj_contributions.index = adj_contributions.date_week\n",
        "\n",
        "pd.options.plotting.backend = \"matplotlib\"\n",
        "sns.set_theme()\n",
        "ax = (adj_contributions.drop(columns = ['date_week'])\n",
        "      .plot.area(\n",
        "          figsize=(16, 10),\n",
        "          linewidth=1,\n",
        "          title='Predicted Sales and Breakdown',\n",
        "          ylabel='Sales',\n",
        "          xlabel='Date',\n",
        "          color={'base':'#3A2D80', 'facebook_impressions':'#A763F6', 'google_impressions':'#6957E7'}\n",
        "          # cbar_kws={\"#3A2D80\": .5}\n",
        "      )\n",
        "     )\n",
        "    \n",
        "handles, labels = ax.get_legend_handles_labels()\n",
        "ax.legend(\n",
        "    handles[::-1], labels[::-1],\n",
        "    title='Channels', loc=\"center left\",\n",
        "    bbox_to_anchor=(1.01, 0.5)\n",
        ")"
      ]
    },
    {
      "cell_type": "code",
      "execution_count": null,
      "metadata": {
        "id": "hsmD20kpt8Dp"
      },
      "outputs": [],
      "source": [
        "#Buscar como utilizar mi intercepcion y verificar coeficientes + añadir el adstock y saturacion\n",
        "contribution_frame.to_csv('/content/drive/MyDrive/Bayesian MMM/model_results.csv')\n",
        "#data_example = pd.read_csv('model_results.csv')"
      ]
    },
    {
      "cell_type": "code",
      "execution_count": null,
      "metadata": {
        "id": "zkTfIV3DnWd5"
      },
      "outputs": [],
      "source": [
        "#data_transformed_decomposed.facebook * 100_000\n",
        "corr = data_transformed_decomposed.corr()\n",
        "fig, ax = plt.subplots(figsize=(25,10))\n",
        "sns.heatmap(corr, xticklabels = corr.columns, \n",
        "            yticklabels = corr.columns, annot = True, \n",
        "            cmap = sns.diverging_palette(220, 20, as_cmap=True))"
      ]
    },
    {
      "cell_type": "code",
      "execution_count": null,
      "metadata": {
        "id": "QKsvb5M9reuf"
      },
      "outputs": [],
      "source": [
        "corr = data.corr()\n",
        "fig, ax = plt.subplots(figsize=(25,10))\n",
        "sns.heatmap(corr, xticklabels = corr.columns, \n",
        "            yticklabels = corr.columns, annot = True, \n",
        "            cmap = sns.diverging_palette(220, 20, as_cmap=True))"
      ]
    },
    {
      "cell_type": "code",
      "execution_count": null,
      "metadata": {
        "id": "54Au3Yv4mG1I"
      },
      "outputs": [],
      "source": []
    }
  ],
  "metadata": {
    "colab": {
      "authorship_tag": "ABX9TyOtJ/jyedugddydeJgOccy9",
      "collapsed_sections": [],
      "include_colab_link": true,
      "mount_file_id": "1RS5i_vDAQkfA7IKOxz8KjmDG4ORvczoQ",
      "name": "Marketing Mix Modeling [Linkedin Article].ipynb",
      "provenance": []
    },
    "kernelspec": {
      "display_name": "Python 3",
      "name": "python3"
    },
    "language_info": {
      "name": "python"
    }
  },
  "nbformat": 4,
  "nbformat_minor": 0
}
